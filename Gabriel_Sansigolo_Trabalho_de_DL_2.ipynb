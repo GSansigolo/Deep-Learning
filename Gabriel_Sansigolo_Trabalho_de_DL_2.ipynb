{
 "cells": [
  {
   "cell_type": "markdown",
   "metadata": {
    "tags": []
   },
   "source": [
    "# **Atividade 2 - Uso de Redes Neurais Profundas**"
   ]
  },
  {
   "cell_type": "markdown",
   "metadata": {
    "tags": []
   },
   "source": [
    "## **Disciplina:** CAP-421-3 Aprendizado Profundo\n",
    "\n",
    "**Discintes:**\n",
    "\n",
    "Gabriel Sansigolo"
   ]
  },
  {
   "cell_type": "markdown",
   "metadata": {
    "tags": []
   },
   "source": [
    "### **Importando bibliotecas**"
   ]
  },
  {
   "cell_type": "code",
   "execution_count": 1,
   "metadata": {},
   "outputs": [],
   "source": [
    "import os\n",
    "import cv2\n",
    "import numpy as np\n",
    "import matplotlib.pyplot as plt\n",
    "import torch\n",
    "import torch.nn as nn\n",
    "import torch.optim as optim\n",
    "import torch.nn.functional as F\n",
    "import torchvision.transforms as transforms\n",
    "\n",
    "from tqdm import tqdm\n",
    "from torchinfo import summary\n",
    "from torch.utils.data import DataLoader"
   ]
  },
  {
   "cell_type": "markdown",
   "metadata": {},
   "source": [
    "### **Utiliza GPU (cuda), caso contrário, utiliza CPU**"
   ]
  },
  {
   "cell_type": "code",
   "execution_count": 2,
   "metadata": {},
   "outputs": [],
   "source": [
    "device = 'cuda' if torch.cuda.is_available() else 'cpu'"
   ]
  },
  {
   "cell_type": "code",
   "execution_count": 3,
   "metadata": {},
   "outputs": [
    {
     "data": {
      "text/plain": [
       "'NVIDIA GeForce RTX 4080'"
      ]
     },
     "execution_count": 3,
     "metadata": {},
     "output_type": "execute_result"
    }
   ],
   "source": [
    "cuda_id = torch.cuda.current_device()\n",
    "torch.cuda.get_device_name(cuda_id)"
   ]
  },
  {
   "cell_type": "markdown",
   "metadata": {
    "tags": []
   },
   "source": [
    "### **1 - Pré-processamento da Imagens**"
   ]
  },
  {
   "cell_type": "code",
   "execution_count": 4,
   "metadata": {},
   "outputs": [],
   "source": [
    "path_dir = os.path.dirname(\"\")\n",
    "\n",
    "def load_images(path, pista = False):\n",
    "\n",
    "    images = []\n",
    "    filenames = os.listdir(path)\n",
    "    \n",
    "    for filename in tqdm(filenames):\n",
    "        if filename == '_DS_Store':\n",
    "            continue\n",
    "        image = cv2.imread(os.path.join(path, filename))\n",
    "        image = cv2.resize(image, dsize=(100,100))\n",
    "        image = cv2.cvtColor(image, cv2.COLOR_BGR2RGB)\n",
    "\n",
    "        images.append(image)\n",
    "        \n",
    "        if pista == True:\n",
    "            \n",
    "            #apply gama 0.5\n",
    "            invGamma = 1.0 / 0.5\n",
    "            table = np.array([((i / 255.0) ** invGamma) * 255\n",
    "            for i in np.arange(0, 256)]).astype(\"uint8\")\n",
    "            new_image = cv2.LUT(image, table)\n",
    "                        \n",
    "            images.append(new_image)\n",
    "\n",
    "\n",
    "\n",
    "    return np.array(images)"
   ]
  },
  {
   "cell_type": "markdown",
   "metadata": {},
   "source": [
    "### **2 - Dividindo os Dados (Treinamento e Teste)**"
   ]
  },
  {
   "cell_type": "code",
   "execution_count": 5,
   "metadata": {},
   "outputs": [
    {
     "name": "stderr",
     "output_type": "stream",
     "text": [
      "100%|██████████| 3228/3228 [00:07<00:00, 456.08it/s]\n",
      "100%|██████████| 16394/16394 [00:30<00:00, 532.12it/s]\n",
      "100%|██████████| 1935/1935 [00:03<00:00, 535.06it/s]\n",
      "100%|██████████| 530/530 [00:01<00:00, 529.03it/s]\n"
     ]
    }
   ],
   "source": [
    "mapeado_train = load_images(os.path.join(path_dir,'Treinamento/Pistas/'), True)\n",
    "nao_mapeado_train = load_images(os.path.join(path_dir,'Treinamento/NaoPistas/'), False)\n",
    "\n",
    "nao_mapeado_train = nao_mapeado_train[:16140]\n",
    "\n",
    "mapeado_test = load_images(os.path.join(path_dir,'Teste/NovasNaoPistas/'), False)\n",
    "nao_mapeado_test = load_images(os.path.join(path_dir,'Teste/NovasPistas/'), False)"
   ]
  },
  {
   "cell_type": "markdown",
   "metadata": {},
   "source": [
    "### **3 - Verificação das Dimensões dos Dados de Treinamento e Teste**"
   ]
  },
  {
   "cell_type": "code",
   "execution_count": 6,
   "metadata": {},
   "outputs": [
    {
     "name": "stdout",
     "output_type": "stream",
     "text": [
      "(6456, 100, 100, 3)\n",
      "(16140, 100, 100, 3)\n",
      "(1935, 100, 100, 3)\n",
      "(530, 100, 100, 3)\n"
     ]
    }
   ],
   "source": [
    "print(mapeado_train.shape)\n",
    "print(nao_mapeado_train.shape)\n",
    "print(mapeado_test.shape)\n",
    "print(nao_mapeado_test.shape)"
   ]
  },
  {
   "cell_type": "code",
   "execution_count": 7,
   "metadata": {},
   "outputs": [
    {
     "name": "stdout",
     "output_type": "stream",
     "text": [
      "(22596, 100, 100, 3)\n",
      "(2365, 100, 100, 3)\n",
      "(100, 100, 100, 3)\n"
     ]
    }
   ],
   "source": [
    "X_train = np.append(mapeado_train, nao_mapeado_train, axis=0)\n",
    "X_test  = np.append(mapeado_test, nao_mapeado_test, axis=0)\n",
    "\n",
    "X_test = X_test[100:]\n",
    "X_val = X_test[:100]\n",
    "\n",
    "print(X_train.shape)\n",
    "print(X_test.shape)\n",
    "print(X_val.shape)"
   ]
  },
  {
   "cell_type": "code",
   "execution_count": 8,
   "metadata": {},
   "outputs": [
    {
     "name": "stdout",
     "output_type": "stream",
     "text": [
      "(22596,)\n",
      "(2365,)\n",
      "(100,)\n"
     ]
    }
   ],
   "source": [
    "y_train = np.array([0] * len(mapeado_train) + [1] * len(nao_mapeado_train))\n",
    "y_test = np.array([0] * len(mapeado_test) + [1] * len(nao_mapeado_test))\n",
    "\n",
    "y_test = y_test[100:]\n",
    "y_val = y_test[:100] \n",
    "\n",
    "print(y_train.shape)\n",
    "print(y_test.shape)\n",
    "print(y_val.shape)"
   ]
  },
  {
   "cell_type": "code",
   "execution_count": 9,
   "metadata": {},
   "outputs": [],
   "source": [
    "y_train = torch.from_numpy(y_train.reshape(len(y_train),1))\n",
    "y_test = torch.from_numpy(y_test.reshape(len(y_test),1))\n",
    "y_val = torch.from_numpy(y_val.reshape(len(y_val),1))"
   ]
  },
  {
   "cell_type": "markdown",
   "metadata": {},
   "source": [
    "### **4 - Execução de Transformações Necessárias para Dados de Treinamento e Teste**"
   ]
  },
  {
   "cell_type": "code",
   "execution_count": 10,
   "metadata": {},
   "outputs": [],
   "source": [
    "transforms_train = transforms.Compose([transforms.ToTensor(), \n",
    "                                       transforms.Normalize(mean=[0.5,0.5,0.5], std=[0.5,0.5,0.5]) # squeeze to -1 and 1\n",
    "                                      ])"
   ]
  },
  {
   "cell_type": "code",
   "execution_count": 11,
   "metadata": {},
   "outputs": [],
   "source": [
    "transforms_test = transforms.Compose([transforms.ToTensor(), \n",
    "                                     transforms.Normalize([0.5,0.5,0.5], [0.5,0.5,0.5])])"
   ]
  },
  {
   "cell_type": "code",
   "execution_count": 12,
   "metadata": {},
   "outputs": [],
   "source": [
    "transforms_val = transforms.Compose([transforms.ToTensor(), \n",
    "                                     transforms.Normalize([0.5,0.5,0.5], [0.5,0.5,0.5])])"
   ]
  },
  {
   "cell_type": "markdown",
   "metadata": {},
   "source": [
    "### **5 - Definição das Classes**"
   ]
  },
  {
   "cell_type": "code",
   "execution_count": 13,
   "metadata": {},
   "outputs": [],
   "source": [
    "class Mapeado_Nao_Mapeado():\n",
    "    def __init__(self, images, labels, transform=None):\n",
    "        self.images = images\n",
    "        self.labels = labels\n",
    "        self.transform = transform\n",
    "        \n",
    "    def __len__(self):\n",
    "        return len(self.images)\n",
    "    \n",
    "    def __getitem__(self, index):\n",
    "        image = self.images[index]\n",
    "        label = self.labels[index]\n",
    "        \n",
    "        if self.transform:\n",
    "            image = self.transform(image)\n",
    "        \n",
    "        return (image, label)"
   ]
  },
  {
   "cell_type": "markdown",
   "metadata": {},
   "source": [
    "### **6 - Criação dos DataLoaders para os Dados de Treinamento e Teste**"
   ]
  },
  {
   "cell_type": "code",
   "execution_count": 14,
   "metadata": {},
   "outputs": [],
   "source": [
    "train_dataset = Mapeado_Nao_Mapeado(images=X_train, labels=y_train, transform=transforms_train)\n",
    "test_dataset  = Mapeado_Nao_Mapeado(images=X_test, labels=y_test, transform=transforms_test)\n",
    "val_dataset  = Mapeado_Nao_Mapeado(images=X_val, labels=y_val, transform=transforms_val)"
   ]
  },
  {
   "cell_type": "code",
   "execution_count": 15,
   "metadata": {},
   "outputs": [],
   "source": [
    "train_loader = DataLoader(train_dataset, batch_size=32, shuffle=True, drop_last=True)\n",
    "test_loader  = DataLoader(test_dataset, batch_size=32, shuffle=True, drop_last=True)\n",
    "val_loader  = DataLoader(val_dataset, batch_size=32, shuffle=True, drop_last=True)"
   ]
  },
  {
   "cell_type": "code",
   "execution_count": 16,
   "metadata": {},
   "outputs": [
    {
     "name": "stdout",
     "output_type": "stream",
     "text": [
      "torch.Size([32, 3, 100, 100])\n"
     ]
    }
   ],
   "source": [
    "iterator = iter(train_loader)\n",
    "image_batch, label_batch = next(iterator)\n",
    "\n",
    "print(image_batch.shape)"
   ]
  },
  {
   "cell_type": "code",
   "execution_count": 17,
   "metadata": {},
   "outputs": [
    {
     "name": "stdout",
     "output_type": "stream",
     "text": [
      "torch.Size([32, 100, 100, 3])\n"
     ]
    }
   ],
   "source": [
    "image_batch_permuted = image_batch.permute(0, 2, 3, 1)\n",
    "\n",
    "print(image_batch_permuted.shape)"
   ]
  },
  {
   "cell_type": "markdown",
   "metadata": {},
   "source": [
    "### **7 - Definindo a Rede Neural Convolucional (CNN) para Classificação**"
   ]
  },
  {
   "cell_type": "code",
   "execution_count": 18,
   "metadata": {},
   "outputs": [],
   "source": [
    "class CNN(nn.Module):\n",
    "    def __init__(self):\n",
    "        super().__init__()\n",
    "        self.conv0 = nn.Conv2d(in_channels=3, out_channels=16, kernel_size=(3,3), stride=(1,1), padding=(1,1), bias=False)\n",
    "        self.bn0 = nn.BatchNorm2d(num_features=16)\n",
    "        self.maxpool = nn.MaxPool2d(kernel_size=(2,2), stride=(2,2))\n",
    "        \n",
    "        self.conv1 = nn.Conv2d(in_channels=16, out_channels=32, kernel_size=(3,3), stride=(1,1), padding=(1,1), bias=False)\n",
    "        self.bn1 = nn.BatchNorm2d(num_features=32)\n",
    "        # self.maxpool\n",
    "        \n",
    "        self.conv2 = nn.Conv2d(in_channels=32, out_channels=64, kernel_size=(3,3), stride=(1,1), padding=(1,1), bias=False)\n",
    "        self.bn2 = nn.BatchNorm2d(num_features=64)\n",
    "        # self.maxpool\n",
    "        \n",
    "        self.conv3 = nn.Conv2d(in_channels=64, out_channels=128, kernel_size=(3,3), stride=(1,1), padding=(1,1), bias=False)\n",
    "        self.bn3 = nn.BatchNorm2d(num_features=128)\n",
    "        # self.maxpool\n",
    "        \n",
    "        self.dropout = nn.Dropout(p=0.5)\n",
    "        self.fc0 = nn.Linear(in_features=128*6*6, out_features=64)\n",
    "        self.fc1 = nn.Linear(in_features=64, out_features=32)\n",
    "        self.fc2 = nn.Linear(in_features=32, out_features=1)\n",
    "        \n",
    "    def forward(self, x):\n",
    "        x = F.relu(self.bn0(self.conv0(x)))\n",
    "        x = self.maxpool(x)\n",
    "        \n",
    "        x = F.relu(self.bn1(self.conv1(x)))\n",
    "        x = self.maxpool(x)\n",
    "        \n",
    "        x = F.relu(self.bn2(self.conv2(x)))\n",
    "        x = self.maxpool(x)\n",
    "        \n",
    "        x = F.relu(self.bn3(self.conv3(x)))\n",
    "        x = self.maxpool(x)\n",
    "\n",
    "        x = x.reshape(x.shape[0], -1)\n",
    "        \n",
    "        x = self.dropout(x)\n",
    "        x = F.relu(self.fc0(x))\n",
    "        x = F.relu(self.fc1(x))\n",
    "        x = F.sigmoid(self.fc2(x))\n",
    "        \n",
    "        return x"
   ]
  },
  {
   "cell_type": "code",
   "execution_count": 19,
   "metadata": {},
   "outputs": [],
   "source": [
    "model = CNN().to(device)"
   ]
  },
  {
   "cell_type": "code",
   "execution_count": 20,
   "metadata": {},
   "outputs": [
    {
     "data": {
      "text/plain": [
       "==========================================================================================\n",
       "Layer (type:depth-idx)                   Output Shape              Param #\n",
       "==========================================================================================\n",
       "CNN                                      [4, 1]                    --\n",
       "├─Conv2d: 1-1                            [4, 16, 100, 100]         432\n",
       "├─BatchNorm2d: 1-2                       [4, 16, 100, 100]         32\n",
       "├─MaxPool2d: 1-3                         [4, 16, 50, 50]           --\n",
       "├─Conv2d: 1-4                            [4, 32, 50, 50]           4,608\n",
       "├─BatchNorm2d: 1-5                       [4, 32, 50, 50]           64\n",
       "├─MaxPool2d: 1-6                         [4, 32, 25, 25]           --\n",
       "├─Conv2d: 1-7                            [4, 64, 25, 25]           18,432\n",
       "├─BatchNorm2d: 1-8                       [4, 64, 25, 25]           128\n",
       "├─MaxPool2d: 1-9                         [4, 64, 12, 12]           --\n",
       "├─Conv2d: 1-10                           [4, 128, 12, 12]          73,728\n",
       "├─BatchNorm2d: 1-11                      [4, 128, 12, 12]          256\n",
       "├─MaxPool2d: 1-12                        [4, 128, 6, 6]            --\n",
       "├─Dropout: 1-13                          [4, 4608]                 --\n",
       "├─Linear: 1-14                           [4, 64]                   294,976\n",
       "├─Linear: 1-15                           [4, 32]                   2,080\n",
       "├─Linear: 1-16                           [4, 1]                    33\n",
       "==========================================================================================\n",
       "Total params: 394,769\n",
       "Trainable params: 394,769\n",
       "Non-trainable params: 0\n",
       "Total mult-adds (Units.MEGABYTES): 153.10\n",
       "==========================================================================================\n",
       "Input size (MB): 0.48\n",
       "Forward/backward pass size (MB): 19.10\n",
       "Params size (MB): 1.58\n",
       "Estimated Total Size (MB): 21.16\n",
       "=========================================================================================="
      ]
     },
     "execution_count": 20,
     "metadata": {},
     "output_type": "execute_result"
    }
   ],
   "source": [
    "summary(model, input_size=(4,3,100,100))"
   ]
  },
  {
   "cell_type": "markdown",
   "metadata": {},
   "source": [
    "### **8 - Definição da Função de Perda e do Otimizador**"
   ]
  },
  {
   "cell_type": "code",
   "execution_count": 21,
   "metadata": {},
   "outputs": [],
   "source": [
    "loss_function = nn.BCELoss()\n",
    "optimizer = optim.Adam(model.parameters(), lr=0.001)"
   ]
  },
  {
   "cell_type": "markdown",
   "metadata": {},
   "source": [
    "### **9 - Definição da Função de Predição de Dados de Teste**"
   ]
  },
  {
   "cell_type": "code",
   "execution_count": 22,
   "metadata": {},
   "outputs": [],
   "source": [
    "def predict_test_data(model, test_loader):\n",
    "    \n",
    "    num_correct = 0\n",
    "    num_samples = 0\n",
    "    \n",
    "    model.eval()\n",
    "    \n",
    "    with torch.no_grad():\n",
    "        for batch, (X_test, y_test) in enumerate(test_loader):\n",
    "            X_test = X_test.float().to(device)\n",
    "            y_test = y_test.float().to(device)\n",
    "\n",
    "            test_preds = model(X_test)\n",
    "            test_loss  = loss_function(test_preds, y_test)\n",
    "            \n",
    "            rounded_test_preds = torch.round(test_preds)\n",
    "            num_correct += torch.sum(rounded_test_preds == y_test)\n",
    "            num_samples += len(y_test)\n",
    "        \n",
    "    model.train()\n",
    "    \n",
    "    test_acc = num_correct/num_samples\n",
    "    \n",
    "    return test_loss, test_acc"
   ]
  },
  {
   "cell_type": "markdown",
   "metadata": {},
   "source": [
    "### **10 - Treinamento do Modelo CNN e Avaliação do Desempenho**"
   ]
  },
  {
   "cell_type": "code",
   "execution_count": 23,
   "metadata": {},
   "outputs": [
    {
     "name": "stderr",
     "output_type": "stream",
     "text": [
      "100%|██████████| 706/706 [00:05<00:00, 130.30it/s]\n"
     ]
    },
    {
     "name": "stdout",
     "output_type": "stream",
     "text": [
      "Epoch: 0 \t| Train loss: 0.605 \t| Test loss: 2.22 \t| Train acc: 0.85 \t| Test acc: 0.22\n"
     ]
    },
    {
     "name": "stderr",
     "output_type": "stream",
     "text": [
      "100%|██████████| 706/706 [00:05<00:00, 135.12it/s]\n"
     ]
    },
    {
     "name": "stdout",
     "output_type": "stream",
     "text": [
      "Epoch: 1 \t| Train loss: 0.359 \t| Test loss: 1.859 \t| Train acc: 0.85 \t| Test acc: 0.22\n"
     ]
    },
    {
     "name": "stderr",
     "output_type": "stream",
     "text": [
      "100%|██████████| 706/706 [00:05<00:00, 135.83it/s]\n"
     ]
    },
    {
     "name": "stdout",
     "output_type": "stream",
     "text": [
      "Epoch: 2 \t| Train loss: 0.235 \t| Test loss: 1.918 \t| Train acc: 0.86 \t| Test acc: 0.25\n"
     ]
    },
    {
     "name": "stderr",
     "output_type": "stream",
     "text": [
      "100%|██████████| 706/706 [00:05<00:00, 135.94it/s]\n"
     ]
    },
    {
     "name": "stdout",
     "output_type": "stream",
     "text": [
      "Epoch: 3 \t| Train loss: 0.359 \t| Test loss: 2.055 \t| Train acc: 0.86 \t| Test acc: 0.22\n"
     ]
    },
    {
     "name": "stderr",
     "output_type": "stream",
     "text": [
      "100%|██████████| 706/706 [00:05<00:00, 135.93it/s]\n"
     ]
    },
    {
     "name": "stdout",
     "output_type": "stream",
     "text": [
      "Epoch: 4 \t| Train loss: 0.486 \t| Test loss: 2.21 \t| Train acc: 0.86 \t| Test acc: 0.21\n"
     ]
    },
    {
     "name": "stderr",
     "output_type": "stream",
     "text": [
      "100%|██████████| 706/706 [00:05<00:00, 137.40it/s]\n"
     ]
    },
    {
     "name": "stdout",
     "output_type": "stream",
     "text": [
      "Epoch: 5 \t| Train loss: 0.265 \t| Test loss: 2.831 \t| Train acc: 0.86 \t| Test acc: 0.2\n"
     ]
    },
    {
     "name": "stderr",
     "output_type": "stream",
     "text": [
      "100%|██████████| 706/706 [00:05<00:00, 133.10it/s]\n"
     ]
    },
    {
     "name": "stdout",
     "output_type": "stream",
     "text": [
      "Epoch: 6 \t| Train loss: 0.34 \t| Test loss: 1.908 \t| Train acc: 0.86 \t| Test acc: 0.22\n"
     ]
    },
    {
     "name": "stderr",
     "output_type": "stream",
     "text": [
      "100%|██████████| 706/706 [00:05<00:00, 137.18it/s]\n"
     ]
    },
    {
     "name": "stdout",
     "output_type": "stream",
     "text": [
      "Epoch: 7 \t| Train loss: 0.46 \t| Test loss: 2.148 \t| Train acc: 0.87 \t| Test acc: 0.18\n"
     ]
    },
    {
     "name": "stderr",
     "output_type": "stream",
     "text": [
      "100%|██████████| 706/706 [00:05<00:00, 136.46it/s]\n"
     ]
    },
    {
     "name": "stdout",
     "output_type": "stream",
     "text": [
      "Epoch: 8 \t| Train loss: 0.482 \t| Test loss: 2.009 \t| Train acc: 0.87 \t| Test acc: 0.18\n"
     ]
    },
    {
     "name": "stderr",
     "output_type": "stream",
     "text": [
      "100%|██████████| 706/706 [00:05<00:00, 136.70it/s]\n"
     ]
    },
    {
     "name": "stdout",
     "output_type": "stream",
     "text": [
      "Epoch: 9 \t| Train loss: 0.322 \t| Test loss: 2.299 \t| Train acc: 0.87 \t| Test acc: 0.19\n"
     ]
    },
    {
     "name": "stderr",
     "output_type": "stream",
     "text": [
      "100%|██████████| 706/706 [00:05<00:00, 137.13it/s]\n"
     ]
    },
    {
     "name": "stdout",
     "output_type": "stream",
     "text": [
      "Epoch: 10 \t| Train loss: 0.375 \t| Test loss: 2.986 \t| Train acc: 0.87 \t| Test acc: 0.21\n"
     ]
    },
    {
     "name": "stderr",
     "output_type": "stream",
     "text": [
      "100%|██████████| 706/706 [00:05<00:00, 140.23it/s]\n"
     ]
    },
    {
     "name": "stdout",
     "output_type": "stream",
     "text": [
      "Epoch: 11 \t| Train loss: 0.21 \t| Test loss: 2.371 \t| Train acc: 0.87 \t| Test acc: 0.21\n"
     ]
    },
    {
     "name": "stderr",
     "output_type": "stream",
     "text": [
      "100%|██████████| 706/706 [00:05<00:00, 137.45it/s]\n"
     ]
    },
    {
     "name": "stdout",
     "output_type": "stream",
     "text": [
      "Epoch: 12 \t| Train loss: 0.355 \t| Test loss: 1.981 \t| Train acc: 0.88 \t| Test acc: 0.21\n"
     ]
    },
    {
     "name": "stderr",
     "output_type": "stream",
     "text": [
      "100%|██████████| 706/706 [00:05<00:00, 137.87it/s]\n"
     ]
    },
    {
     "name": "stdout",
     "output_type": "stream",
     "text": [
      "Epoch: 13 \t| Train loss: 0.256 \t| Test loss: 2.247 \t| Train acc: 0.88 \t| Test acc: 0.26\n"
     ]
    },
    {
     "name": "stderr",
     "output_type": "stream",
     "text": [
      "100%|██████████| 706/706 [00:05<00:00, 138.58it/s]\n"
     ]
    },
    {
     "name": "stdout",
     "output_type": "stream",
     "text": [
      "Epoch: 14 \t| Train loss: 0.305 \t| Test loss: 2.259 \t| Train acc: 0.88 \t| Test acc: 0.21\n"
     ]
    },
    {
     "name": "stderr",
     "output_type": "stream",
     "text": [
      "100%|██████████| 706/706 [00:05<00:00, 136.28it/s]\n"
     ]
    },
    {
     "name": "stdout",
     "output_type": "stream",
     "text": [
      "Epoch: 15 \t| Train loss: 0.194 \t| Test loss: 2.58 \t| Train acc: 0.88 \t| Test acc: 0.25\n"
     ]
    },
    {
     "name": "stderr",
     "output_type": "stream",
     "text": [
      "100%|██████████| 706/706 [00:05<00:00, 138.28it/s]\n"
     ]
    },
    {
     "name": "stdout",
     "output_type": "stream",
     "text": [
      "Epoch: 16 \t| Train loss: 0.218 \t| Test loss: 2.462 \t| Train acc: 0.88 \t| Test acc: 0.21\n"
     ]
    },
    {
     "name": "stderr",
     "output_type": "stream",
     "text": [
      "100%|██████████| 706/706 [00:05<00:00, 135.53it/s]\n"
     ]
    },
    {
     "name": "stdout",
     "output_type": "stream",
     "text": [
      "Epoch: 17 \t| Train loss: 0.291 \t| Test loss: 3.006 \t| Train acc: 0.88 \t| Test acc: 0.21\n"
     ]
    },
    {
     "name": "stderr",
     "output_type": "stream",
     "text": [
      "100%|██████████| 706/706 [00:05<00:00, 138.06it/s]\n"
     ]
    },
    {
     "name": "stdout",
     "output_type": "stream",
     "text": [
      "Epoch: 18 \t| Train loss: 0.262 \t| Test loss: 2.399 \t| Train acc: 0.89 \t| Test acc: 0.21\n"
     ]
    },
    {
     "name": "stderr",
     "output_type": "stream",
     "text": [
      "100%|██████████| 706/706 [00:05<00:00, 135.37it/s]\n"
     ]
    },
    {
     "name": "stdout",
     "output_type": "stream",
     "text": [
      "Epoch: 19 \t| Train loss: 0.303 \t| Test loss: 3.129 \t| Train acc: 0.89 \t| Test acc: 0.19\n"
     ]
    },
    {
     "name": "stderr",
     "output_type": "stream",
     "text": [
      "100%|██████████| 706/706 [00:04<00:00, 141.71it/s]\n"
     ]
    },
    {
     "name": "stdout",
     "output_type": "stream",
     "text": [
      "Epoch: 20 \t| Train loss: 0.277 \t| Test loss: 2.783 \t| Train acc: 0.89 \t| Test acc: 0.21\n"
     ]
    },
    {
     "name": "stderr",
     "output_type": "stream",
     "text": [
      "100%|██████████| 706/706 [00:05<00:00, 139.53it/s]\n"
     ]
    },
    {
     "name": "stdout",
     "output_type": "stream",
     "text": [
      "Epoch: 21 \t| Train loss: 0.121 \t| Test loss: 3.155 \t| Train acc: 0.89 \t| Test acc: 0.21\n"
     ]
    },
    {
     "name": "stderr",
     "output_type": "stream",
     "text": [
      "100%|██████████| 706/706 [00:05<00:00, 138.67it/s]\n"
     ]
    },
    {
     "name": "stdout",
     "output_type": "stream",
     "text": [
      "Epoch: 22 \t| Train loss: 0.238 \t| Test loss: 2.86 \t| Train acc: 0.89 \t| Test acc: 0.21\n"
     ]
    },
    {
     "name": "stderr",
     "output_type": "stream",
     "text": [
      "100%|██████████| 706/706 [00:05<00:00, 139.83it/s]\n"
     ]
    },
    {
     "name": "stdout",
     "output_type": "stream",
     "text": [
      "Epoch: 23 \t| Train loss: 0.287 \t| Test loss: 3.333 \t| Train acc: 0.9 \t| Test acc: 0.21\n"
     ]
    },
    {
     "name": "stderr",
     "output_type": "stream",
     "text": [
      "100%|██████████| 706/706 [00:04<00:00, 144.41it/s]\n"
     ]
    },
    {
     "name": "stdout",
     "output_type": "stream",
     "text": [
      "Epoch: 24 \t| Train loss: 0.159 \t| Test loss: 3.487 \t| Train acc: 0.9 \t| Test acc: 0.22\n"
     ]
    },
    {
     "name": "stderr",
     "output_type": "stream",
     "text": [
      "100%|██████████| 706/706 [00:04<00:00, 142.64it/s]\n"
     ]
    },
    {
     "name": "stdout",
     "output_type": "stream",
     "text": [
      "Epoch: 25 \t| Train loss: 0.303 \t| Test loss: 3.12 \t| Train acc: 0.91 \t| Test acc: 0.21\n"
     ]
    },
    {
     "name": "stderr",
     "output_type": "stream",
     "text": [
      "100%|██████████| 706/706 [00:05<00:00, 140.47it/s]\n"
     ]
    },
    {
     "name": "stdout",
     "output_type": "stream",
     "text": [
      "Epoch: 26 \t| Train loss: 0.114 \t| Test loss: 3.382 \t| Train acc: 0.91 \t| Test acc: 0.21\n"
     ]
    },
    {
     "name": "stderr",
     "output_type": "stream",
     "text": [
      "100%|██████████| 706/706 [00:04<00:00, 144.90it/s]\n"
     ]
    },
    {
     "name": "stdout",
     "output_type": "stream",
     "text": [
      "Epoch: 27 \t| Train loss: 0.132 \t| Test loss: 2.533 \t| Train acc: 0.91 \t| Test acc: 0.2\n"
     ]
    },
    {
     "name": "stderr",
     "output_type": "stream",
     "text": [
      "100%|██████████| 706/706 [00:04<00:00, 141.72it/s]\n"
     ]
    },
    {
     "name": "stdout",
     "output_type": "stream",
     "text": [
      "Epoch: 28 \t| Train loss: 0.109 \t| Test loss: 3.749 \t| Train acc: 0.91 \t| Test acc: 0.21\n"
     ]
    },
    {
     "name": "stderr",
     "output_type": "stream",
     "text": [
      "100%|██████████| 706/706 [00:05<00:00, 140.92it/s]\n"
     ]
    },
    {
     "name": "stdout",
     "output_type": "stream",
     "text": [
      "Epoch: 29 \t| Train loss: 0.278 \t| Test loss: 4.387 \t| Train acc: 0.92 \t| Test acc: 0.2\n"
     ]
    },
    {
     "name": "stderr",
     "output_type": "stream",
     "text": [
      "100%|██████████| 706/706 [00:05<00:00, 136.92it/s]\n"
     ]
    },
    {
     "name": "stdout",
     "output_type": "stream",
     "text": [
      "Epoch: 30 \t| Train loss: 0.117 \t| Test loss: 3.476 \t| Train acc: 0.92 \t| Test acc: 0.2\n"
     ]
    },
    {
     "name": "stderr",
     "output_type": "stream",
     "text": [
      "100%|██████████| 706/706 [00:05<00:00, 138.22it/s]\n"
     ]
    },
    {
     "name": "stdout",
     "output_type": "stream",
     "text": [
      "Epoch: 31 \t| Train loss: 0.123 \t| Test loss: 2.486 \t| Train acc: 0.92 \t| Test acc: 0.21\n"
     ]
    },
    {
     "name": "stderr",
     "output_type": "stream",
     "text": [
      "100%|██████████| 706/706 [00:05<00:00, 136.06it/s]\n"
     ]
    },
    {
     "name": "stdout",
     "output_type": "stream",
     "text": [
      "Epoch: 32 \t| Train loss: 0.206 \t| Test loss: 3.94 \t| Train acc: 0.92 \t| Test acc: 0.2\n"
     ]
    },
    {
     "name": "stderr",
     "output_type": "stream",
     "text": [
      "100%|██████████| 706/706 [00:05<00:00, 138.06it/s]\n"
     ]
    },
    {
     "name": "stdout",
     "output_type": "stream",
     "text": [
      "Epoch: 33 \t| Train loss: 0.214 \t| Test loss: 3.699 \t| Train acc: 0.93 \t| Test acc: 0.2\n"
     ]
    },
    {
     "name": "stderr",
     "output_type": "stream",
     "text": [
      "100%|██████████| 706/706 [00:05<00:00, 136.89it/s]\n"
     ]
    },
    {
     "name": "stdout",
     "output_type": "stream",
     "text": [
      "Epoch: 34 \t| Train loss: 0.251 \t| Test loss: 8.208 \t| Train acc: 0.93 \t| Test acc: 0.2\n"
     ]
    },
    {
     "name": "stderr",
     "output_type": "stream",
     "text": [
      "100%|██████████| 706/706 [00:05<00:00, 136.19it/s]\n"
     ]
    },
    {
     "name": "stdout",
     "output_type": "stream",
     "text": [
      "Epoch: 35 \t| Train loss: 0.127 \t| Test loss: 4.715 \t| Train acc: 0.93 \t| Test acc: 0.21\n"
     ]
    },
    {
     "name": "stderr",
     "output_type": "stream",
     "text": [
      "100%|██████████| 706/706 [00:05<00:00, 140.55it/s]\n"
     ]
    },
    {
     "name": "stdout",
     "output_type": "stream",
     "text": [
      "Epoch: 36 \t| Train loss: 0.145 \t| Test loss: 3.971 \t| Train acc: 0.93 \t| Test acc: 0.2\n"
     ]
    },
    {
     "name": "stderr",
     "output_type": "stream",
     "text": [
      "100%|██████████| 706/706 [00:04<00:00, 141.59it/s]\n"
     ]
    },
    {
     "name": "stdout",
     "output_type": "stream",
     "text": [
      "Epoch: 37 \t| Train loss: 0.124 \t| Test loss: 5.376 \t| Train acc: 0.94 \t| Test acc: 0.2\n"
     ]
    },
    {
     "name": "stderr",
     "output_type": "stream",
     "text": [
      "100%|██████████| 706/706 [00:04<00:00, 142.94it/s]\n"
     ]
    },
    {
     "name": "stdout",
     "output_type": "stream",
     "text": [
      "Epoch: 38 \t| Train loss: 0.224 \t| Test loss: 5.223 \t| Train acc: 0.94 \t| Test acc: 0.2\n"
     ]
    },
    {
     "name": "stderr",
     "output_type": "stream",
     "text": [
      "100%|██████████| 706/706 [00:05<00:00, 137.66it/s]\n"
     ]
    },
    {
     "name": "stdout",
     "output_type": "stream",
     "text": [
      "Epoch: 39 \t| Train loss: 0.191 \t| Test loss: 4.913 \t| Train acc: 0.94 \t| Test acc: 0.19\n"
     ]
    },
    {
     "name": "stderr",
     "output_type": "stream",
     "text": [
      "100%|██████████| 706/706 [00:04<00:00, 142.46it/s]\n"
     ]
    },
    {
     "name": "stdout",
     "output_type": "stream",
     "text": [
      "Epoch: 40 \t| Train loss: 0.065 \t| Test loss: 4.118 \t| Train acc: 0.94 \t| Test acc: 0.2\n"
     ]
    },
    {
     "name": "stderr",
     "output_type": "stream",
     "text": [
      "100%|██████████| 706/706 [00:05<00:00, 134.85it/s]\n"
     ]
    },
    {
     "name": "stdout",
     "output_type": "stream",
     "text": [
      "Epoch: 41 \t| Train loss: 0.205 \t| Test loss: 5.85 \t| Train acc: 0.94 \t| Test acc: 0.2\n"
     ]
    },
    {
     "name": "stderr",
     "output_type": "stream",
     "text": [
      "100%|██████████| 706/706 [00:06<00:00, 109.80it/s]\n"
     ]
    },
    {
     "name": "stdout",
     "output_type": "stream",
     "text": [
      "Epoch: 42 \t| Train loss: 0.281 \t| Test loss: 6.072 \t| Train acc: 0.95 \t| Test acc: 0.2\n"
     ]
    },
    {
     "name": "stderr",
     "output_type": "stream",
     "text": [
      "100%|██████████| 706/706 [00:11<00:00, 60.66it/s]\n"
     ]
    },
    {
     "name": "stdout",
     "output_type": "stream",
     "text": [
      "Epoch: 43 \t| Train loss: 0.189 \t| Test loss: 4.187 \t| Train acc: 0.95 \t| Test acc: 0.21\n"
     ]
    },
    {
     "name": "stderr",
     "output_type": "stream",
     "text": [
      "100%|██████████| 706/706 [00:11<00:00, 61.16it/s]\n"
     ]
    },
    {
     "name": "stdout",
     "output_type": "stream",
     "text": [
      "Epoch: 44 \t| Train loss: 0.013 \t| Test loss: 6.402 \t| Train acc: 0.95 \t| Test acc: 0.2\n"
     ]
    },
    {
     "name": "stderr",
     "output_type": "stream",
     "text": [
      "100%|██████████| 706/706 [00:11<00:00, 61.01it/s]\n"
     ]
    },
    {
     "name": "stdout",
     "output_type": "stream",
     "text": [
      "Epoch: 45 \t| Train loss: 0.354 \t| Test loss: 6.1 \t| Train acc: 0.96 \t| Test acc: 0.2\n"
     ]
    },
    {
     "name": "stderr",
     "output_type": "stream",
     "text": [
      "100%|██████████| 706/706 [00:07<00:00, 92.72it/s] \n"
     ]
    },
    {
     "name": "stdout",
     "output_type": "stream",
     "text": [
      "Epoch: 46 \t| Train loss: 0.031 \t| Test loss: 9.052 \t| Train acc: 0.96 \t| Test acc: 0.19\n"
     ]
    },
    {
     "name": "stderr",
     "output_type": "stream",
     "text": [
      "100%|██████████| 706/706 [00:05<00:00, 123.40it/s]\n"
     ]
    },
    {
     "name": "stdout",
     "output_type": "stream",
     "text": [
      "Epoch: 47 \t| Train loss: 0.065 \t| Test loss: 5.107 \t| Train acc: 0.96 \t| Test acc: 0.2\n"
     ]
    },
    {
     "name": "stderr",
     "output_type": "stream",
     "text": [
      "100%|██████████| 706/706 [00:05<00:00, 130.43it/s]\n"
     ]
    },
    {
     "name": "stdout",
     "output_type": "stream",
     "text": [
      "Epoch: 48 \t| Train loss: 0.077 \t| Test loss: 11.651 \t| Train acc: 0.96 \t| Test acc: 0.21\n"
     ]
    },
    {
     "name": "stderr",
     "output_type": "stream",
     "text": [
      "100%|██████████| 706/706 [00:05<00:00, 134.42it/s]\n"
     ]
    },
    {
     "name": "stdout",
     "output_type": "stream",
     "text": [
      "Epoch: 49 \t| Train loss: 0.206 \t| Test loss: 5.338 \t| Train acc: 0.96 \t| Test acc: 0.2\n"
     ]
    },
    {
     "name": "stderr",
     "output_type": "stream",
     "text": [
      "100%|██████████| 706/706 [00:05<00:00, 136.12it/s]\n"
     ]
    },
    {
     "name": "stdout",
     "output_type": "stream",
     "text": [
      "Epoch: 50 \t| Train loss: 0.033 \t| Test loss: 8.613 \t| Train acc: 0.96 \t| Test acc: 0.2\n"
     ]
    },
    {
     "name": "stderr",
     "output_type": "stream",
     "text": [
      "100%|██████████| 706/706 [00:05<00:00, 133.45it/s]\n"
     ]
    },
    {
     "name": "stdout",
     "output_type": "stream",
     "text": [
      "Epoch: 51 \t| Train loss: 0.139 \t| Test loss: 9.03 \t| Train acc: 0.96 \t| Test acc: 0.21\n"
     ]
    },
    {
     "name": "stderr",
     "output_type": "stream",
     "text": [
      "100%|██████████| 706/706 [00:05<00:00, 138.67it/s]\n"
     ]
    },
    {
     "name": "stdout",
     "output_type": "stream",
     "text": [
      "Epoch: 52 \t| Train loss: 0.071 \t| Test loss: 5.33 \t| Train acc: 0.97 \t| Test acc: 0.2\n"
     ]
    },
    {
     "name": "stderr",
     "output_type": "stream",
     "text": [
      "100%|██████████| 706/706 [00:05<00:00, 137.28it/s]\n"
     ]
    },
    {
     "name": "stdout",
     "output_type": "stream",
     "text": [
      "Epoch: 53 \t| Train loss: 0.035 \t| Test loss: 10.377 \t| Train acc: 0.97 \t| Test acc: 0.2\n"
     ]
    },
    {
     "name": "stderr",
     "output_type": "stream",
     "text": [
      "100%|██████████| 706/706 [00:05<00:00, 139.06it/s]\n"
     ]
    },
    {
     "name": "stdout",
     "output_type": "stream",
     "text": [
      "Epoch: 54 \t| Train loss: 0.054 \t| Test loss: 5.443 \t| Train acc: 0.97 \t| Test acc: 0.21\n"
     ]
    },
    {
     "name": "stderr",
     "output_type": "stream",
     "text": [
      "100%|██████████| 706/706 [00:05<00:00, 136.72it/s]\n"
     ]
    },
    {
     "name": "stdout",
     "output_type": "stream",
     "text": [
      "Epoch: 55 \t| Train loss: 0.093 \t| Test loss: 5.543 \t| Train acc: 0.97 \t| Test acc: 0.22\n"
     ]
    },
    {
     "name": "stderr",
     "output_type": "stream",
     "text": [
      "100%|██████████| 706/706 [00:05<00:00, 129.76it/s]\n"
     ]
    },
    {
     "name": "stdout",
     "output_type": "stream",
     "text": [
      "Epoch: 56 \t| Train loss: 0.108 \t| Test loss: 6.856 \t| Train acc: 0.97 \t| Test acc: 0.2\n"
     ]
    },
    {
     "name": "stderr",
     "output_type": "stream",
     "text": [
      "100%|██████████| 706/706 [00:05<00:00, 126.66it/s]\n"
     ]
    },
    {
     "name": "stdout",
     "output_type": "stream",
     "text": [
      "Epoch: 57 \t| Train loss: 0.148 \t| Test loss: 8.52 \t| Train acc: 0.97 \t| Test acc: 0.2\n"
     ]
    },
    {
     "name": "stderr",
     "output_type": "stream",
     "text": [
      "100%|██████████| 706/706 [00:05<00:00, 129.51it/s]\n"
     ]
    },
    {
     "name": "stdout",
     "output_type": "stream",
     "text": [
      "Epoch: 58 \t| Train loss: 0.043 \t| Test loss: 13.962 \t| Train acc: 0.97 \t| Test acc: 0.19\n"
     ]
    },
    {
     "name": "stderr",
     "output_type": "stream",
     "text": [
      "100%|██████████| 706/706 [00:05<00:00, 122.90it/s]\n"
     ]
    },
    {
     "name": "stdout",
     "output_type": "stream",
     "text": [
      "Epoch: 59 \t| Train loss: 0.023 \t| Test loss: 8.573 \t| Train acc: 0.97 \t| Test acc: 0.21\n"
     ]
    },
    {
     "name": "stderr",
     "output_type": "stream",
     "text": [
      "100%|██████████| 706/706 [00:05<00:00, 132.80it/s]\n"
     ]
    },
    {
     "name": "stdout",
     "output_type": "stream",
     "text": [
      "Epoch: 60 \t| Train loss: 0.027 \t| Test loss: 12.199 \t| Train acc: 0.97 \t| Test acc: 0.21\n"
     ]
    },
    {
     "name": "stderr",
     "output_type": "stream",
     "text": [
      "100%|██████████| 706/706 [00:05<00:00, 139.64it/s]\n"
     ]
    },
    {
     "name": "stdout",
     "output_type": "stream",
     "text": [
      "Epoch: 61 \t| Train loss: 0.067 \t| Test loss: 13.52 \t| Train acc: 0.97 \t| Test acc: 0.19\n"
     ]
    },
    {
     "name": "stderr",
     "output_type": "stream",
     "text": [
      "100%|██████████| 706/706 [00:05<00:00, 136.57it/s]\n"
     ]
    },
    {
     "name": "stdout",
     "output_type": "stream",
     "text": [
      "Epoch: 62 \t| Train loss: 0.024 \t| Test loss: 11.297 \t| Train acc: 0.97 \t| Test acc: 0.2\n"
     ]
    },
    {
     "name": "stderr",
     "output_type": "stream",
     "text": [
      "100%|██████████| 706/706 [00:05<00:00, 137.99it/s]\n"
     ]
    },
    {
     "name": "stdout",
     "output_type": "stream",
     "text": [
      "Epoch: 63 \t| Train loss: 0.051 \t| Test loss: 11.443 \t| Train acc: 0.97 \t| Test acc: 0.19\n"
     ]
    },
    {
     "name": "stderr",
     "output_type": "stream",
     "text": [
      "100%|██████████| 706/706 [00:05<00:00, 135.77it/s]\n"
     ]
    },
    {
     "name": "stdout",
     "output_type": "stream",
     "text": [
      "Epoch: 64 \t| Train loss: 0.018 \t| Test loss: 8.427 \t| Train acc: 0.98 \t| Test acc: 0.19\n"
     ]
    },
    {
     "name": "stderr",
     "output_type": "stream",
     "text": [
      "100%|██████████| 706/706 [00:05<00:00, 140.44it/s]\n"
     ]
    },
    {
     "name": "stdout",
     "output_type": "stream",
     "text": [
      "Epoch: 65 \t| Train loss: 0.073 \t| Test loss: 12.677 \t| Train acc: 0.98 \t| Test acc: 0.2\n"
     ]
    },
    {
     "name": "stderr",
     "output_type": "stream",
     "text": [
      "100%|██████████| 706/706 [00:05<00:00, 137.30it/s]\n"
     ]
    },
    {
     "name": "stdout",
     "output_type": "stream",
     "text": [
      "Epoch: 66 \t| Train loss: 0.07 \t| Test loss: 13.214 \t| Train acc: 0.98 \t| Test acc: 0.19\n"
     ]
    },
    {
     "name": "stderr",
     "output_type": "stream",
     "text": [
      "100%|██████████| 706/706 [00:05<00:00, 130.18it/s]\n"
     ]
    },
    {
     "name": "stdout",
     "output_type": "stream",
     "text": [
      "Epoch: 67 \t| Train loss: 0.006 \t| Test loss: 25.297 \t| Train acc: 0.98 \t| Test acc: 0.2\n"
     ]
    },
    {
     "name": "stderr",
     "output_type": "stream",
     "text": [
      "100%|██████████| 706/706 [00:05<00:00, 135.29it/s]\n"
     ]
    },
    {
     "name": "stdout",
     "output_type": "stream",
     "text": [
      "Epoch: 68 \t| Train loss: 0.067 \t| Test loss: 13.874 \t| Train acc: 0.98 \t| Test acc: 0.19\n"
     ]
    },
    {
     "name": "stderr",
     "output_type": "stream",
     "text": [
      "100%|██████████| 706/706 [00:05<00:00, 122.75it/s]\n"
     ]
    },
    {
     "name": "stdout",
     "output_type": "stream",
     "text": [
      "Epoch: 69 \t| Train loss: 0.04 \t| Test loss: 12.945 \t| Train acc: 0.98 \t| Test acc: 0.19\n"
     ]
    },
    {
     "name": "stderr",
     "output_type": "stream",
     "text": [
      "100%|██████████| 706/706 [00:05<00:00, 132.70it/s]\n"
     ]
    },
    {
     "name": "stdout",
     "output_type": "stream",
     "text": [
      "Epoch: 70 \t| Train loss: 0.054 \t| Test loss: 7.181 \t| Train acc: 0.98 \t| Test acc: 0.2\n"
     ]
    },
    {
     "name": "stderr",
     "output_type": "stream",
     "text": [
      "100%|██████████| 706/706 [00:05<00:00, 132.79it/s]\n"
     ]
    },
    {
     "name": "stdout",
     "output_type": "stream",
     "text": [
      "Epoch: 71 \t| Train loss: 0.13 \t| Test loss: 7.766 \t| Train acc: 0.98 \t| Test acc: 0.22\n"
     ]
    },
    {
     "name": "stderr",
     "output_type": "stream",
     "text": [
      "100%|██████████| 706/706 [00:05<00:00, 127.92it/s]\n"
     ]
    },
    {
     "name": "stdout",
     "output_type": "stream",
     "text": [
      "Epoch: 72 \t| Train loss: 0.186 \t| Test loss: 12.498 \t| Train acc: 0.98 \t| Test acc: 0.2\n"
     ]
    },
    {
     "name": "stderr",
     "output_type": "stream",
     "text": [
      "100%|██████████| 706/706 [00:05<00:00, 133.52it/s]\n"
     ]
    },
    {
     "name": "stdout",
     "output_type": "stream",
     "text": [
      "Epoch: 73 \t| Train loss: 0.027 \t| Test loss: 7.992 \t| Train acc: 0.98 \t| Test acc: 0.2\n"
     ]
    },
    {
     "name": "stderr",
     "output_type": "stream",
     "text": [
      "100%|██████████| 706/706 [00:05<00:00, 131.75it/s]\n"
     ]
    },
    {
     "name": "stdout",
     "output_type": "stream",
     "text": [
      "Epoch: 74 \t| Train loss: 0.005 \t| Test loss: 15.769 \t| Train acc: 0.98 \t| Test acc: 0.19\n"
     ]
    },
    {
     "name": "stderr",
     "output_type": "stream",
     "text": [
      "100%|██████████| 706/706 [00:05<00:00, 128.55it/s]\n"
     ]
    },
    {
     "name": "stdout",
     "output_type": "stream",
     "text": [
      "Epoch: 75 \t| Train loss: 0.094 \t| Test loss: 12.649 \t| Train acc: 0.98 \t| Test acc: 0.18\n"
     ]
    },
    {
     "name": "stderr",
     "output_type": "stream",
     "text": [
      "100%|██████████| 706/706 [00:05<00:00, 121.93it/s]\n"
     ]
    },
    {
     "name": "stdout",
     "output_type": "stream",
     "text": [
      "Epoch: 76 \t| Train loss: 0.083 \t| Test loss: 9.69 \t| Train acc: 0.98 \t| Test acc: 0.2\n"
     ]
    },
    {
     "name": "stderr",
     "output_type": "stream",
     "text": [
      "100%|██████████| 706/706 [00:10<00:00, 67.05it/s] \n"
     ]
    },
    {
     "name": "stdout",
     "output_type": "stream",
     "text": [
      "Epoch: 77 \t| Train loss: 0.033 \t| Test loss: 5.808 \t| Train acc: 0.98 \t| Test acc: 0.2\n"
     ]
    },
    {
     "name": "stderr",
     "output_type": "stream",
     "text": [
      "100%|██████████| 706/706 [00:11<00:00, 60.51it/s]\n"
     ]
    },
    {
     "name": "stdout",
     "output_type": "stream",
     "text": [
      "Epoch: 78 \t| Train loss: 0.019 \t| Test loss: 10.048 \t| Train acc: 0.98 \t| Test acc: 0.22\n"
     ]
    },
    {
     "name": "stderr",
     "output_type": "stream",
     "text": [
      "100%|██████████| 706/706 [00:06<00:00, 112.68it/s]\n"
     ]
    },
    {
     "name": "stdout",
     "output_type": "stream",
     "text": [
      "Epoch: 79 \t| Train loss: 0.079 \t| Test loss: 15.474 \t| Train acc: 0.98 \t| Test acc: 0.19\n"
     ]
    },
    {
     "name": "stderr",
     "output_type": "stream",
     "text": [
      "100%|██████████| 706/706 [00:05<00:00, 135.92it/s]\n"
     ]
    },
    {
     "name": "stdout",
     "output_type": "stream",
     "text": [
      "Epoch: 80 \t| Train loss: 0.133 \t| Test loss: 19.062 \t| Train acc: 0.98 \t| Test acc: 0.2\n"
     ]
    },
    {
     "name": "stderr",
     "output_type": "stream",
     "text": [
      "100%|██████████| 706/706 [00:05<00:00, 126.22it/s]\n"
     ]
    },
    {
     "name": "stdout",
     "output_type": "stream",
     "text": [
      "Epoch: 81 \t| Train loss: 0.09 \t| Test loss: 5.277 \t| Train acc: 0.98 \t| Test acc: 0.22\n"
     ]
    },
    {
     "name": "stderr",
     "output_type": "stream",
     "text": [
      "100%|██████████| 706/706 [00:11<00:00, 63.36it/s]\n"
     ]
    },
    {
     "name": "stdout",
     "output_type": "stream",
     "text": [
      "Epoch: 82 \t| Train loss: 0.028 \t| Test loss: 4.403 \t| Train acc: 0.98 \t| Test acc: 0.2\n"
     ]
    },
    {
     "name": "stderr",
     "output_type": "stream",
     "text": [
      "100%|██████████| 706/706 [00:11<00:00, 61.23it/s]\n"
     ]
    },
    {
     "name": "stdout",
     "output_type": "stream",
     "text": [
      "Epoch: 83 \t| Train loss: 0.012 \t| Test loss: 5.895 \t| Train acc: 0.98 \t| Test acc: 0.2\n"
     ]
    },
    {
     "name": "stderr",
     "output_type": "stream",
     "text": [
      "100%|██████████| 706/706 [00:11<00:00, 60.24it/s]\n"
     ]
    },
    {
     "name": "stdout",
     "output_type": "stream",
     "text": [
      "Epoch: 84 \t| Train loss: 0.009 \t| Test loss: 20.094 \t| Train acc: 0.98 \t| Test acc: 0.19\n"
     ]
    },
    {
     "name": "stderr",
     "output_type": "stream",
     "text": [
      "100%|██████████| 706/706 [00:11<00:00, 59.85it/s]\n"
     ]
    },
    {
     "name": "stdout",
     "output_type": "stream",
     "text": [
      "Epoch: 85 \t| Train loss: 0.049 \t| Test loss: 10.891 \t| Train acc: 0.98 \t| Test acc: 0.2\n"
     ]
    },
    {
     "name": "stderr",
     "output_type": "stream",
     "text": [
      "100%|██████████| 706/706 [00:11<00:00, 59.98it/s]\n"
     ]
    },
    {
     "name": "stdout",
     "output_type": "stream",
     "text": [
      "Epoch: 86 \t| Train loss: 0.002 \t| Test loss: 18.51 \t| Train acc: 0.98 \t| Test acc: 0.18\n"
     ]
    },
    {
     "name": "stderr",
     "output_type": "stream",
     "text": [
      "100%|██████████| 706/706 [00:11<00:00, 62.07it/s]\n"
     ]
    },
    {
     "name": "stdout",
     "output_type": "stream",
     "text": [
      "Epoch: 87 \t| Train loss: 0.019 \t| Test loss: 9.245 \t| Train acc: 0.98 \t| Test acc: 0.2\n"
     ]
    },
    {
     "name": "stderr",
     "output_type": "stream",
     "text": [
      "100%|██████████| 706/706 [00:11<00:00, 60.42it/s]\n"
     ]
    },
    {
     "name": "stdout",
     "output_type": "stream",
     "text": [
      "Epoch: 88 \t| Train loss: 0.022 \t| Test loss: 18.334 \t| Train acc: 0.98 \t| Test acc: 0.19\n"
     ]
    },
    {
     "name": "stderr",
     "output_type": "stream",
     "text": [
      "100%|██████████| 706/706 [00:11<00:00, 60.58it/s]\n"
     ]
    },
    {
     "name": "stdout",
     "output_type": "stream",
     "text": [
      "Epoch: 89 \t| Train loss: 0.047 \t| Test loss: 12.551 \t| Train acc: 0.98 \t| Test acc: 0.2\n"
     ]
    },
    {
     "name": "stderr",
     "output_type": "stream",
     "text": [
      "100%|██████████| 706/706 [00:11<00:00, 60.69it/s]\n"
     ]
    },
    {
     "name": "stdout",
     "output_type": "stream",
     "text": [
      "Epoch: 90 \t| Train loss: 0.013 \t| Test loss: 5.499 \t| Train acc: 0.98 \t| Test acc: 0.2\n"
     ]
    },
    {
     "name": "stderr",
     "output_type": "stream",
     "text": [
      "100%|██████████| 706/706 [00:11<00:00, 61.73it/s]\n"
     ]
    },
    {
     "name": "stdout",
     "output_type": "stream",
     "text": [
      "Epoch: 91 \t| Train loss: 0.006 \t| Test loss: 17.048 \t| Train acc: 0.98 \t| Test acc: 0.18\n"
     ]
    },
    {
     "name": "stderr",
     "output_type": "stream",
     "text": [
      "100%|██████████| 706/706 [00:11<00:00, 60.43it/s]\n"
     ]
    },
    {
     "name": "stdout",
     "output_type": "stream",
     "text": [
      "Epoch: 92 \t| Train loss: 0.012 \t| Test loss: 18.638 \t| Train acc: 0.98 \t| Test acc: 0.2\n"
     ]
    },
    {
     "name": "stderr",
     "output_type": "stream",
     "text": [
      "100%|██████████| 706/706 [00:11<00:00, 60.61it/s]\n"
     ]
    },
    {
     "name": "stdout",
     "output_type": "stream",
     "text": [
      "Epoch: 93 \t| Train loss: 0.038 \t| Test loss: 16.815 \t| Train acc: 0.99 \t| Test acc: 0.19\n"
     ]
    },
    {
     "name": "stderr",
     "output_type": "stream",
     "text": [
      "100%|██████████| 706/706 [00:11<00:00, 61.22it/s]\n"
     ]
    },
    {
     "name": "stdout",
     "output_type": "stream",
     "text": [
      "Epoch: 94 \t| Train loss: 0.189 \t| Test loss: 10.312 \t| Train acc: 0.98 \t| Test acc: 0.2\n"
     ]
    },
    {
     "name": "stderr",
     "output_type": "stream",
     "text": [
      "100%|██████████| 706/706 [00:11<00:00, 59.55it/s]\n"
     ]
    },
    {
     "name": "stdout",
     "output_type": "stream",
     "text": [
      "Epoch: 95 \t| Train loss: 0.01 \t| Test loss: 6.886 \t| Train acc: 0.99 \t| Test acc: 0.2\n"
     ]
    },
    {
     "name": "stderr",
     "output_type": "stream",
     "text": [
      "100%|██████████| 706/706 [00:11<00:00, 60.39it/s]\n"
     ]
    },
    {
     "name": "stdout",
     "output_type": "stream",
     "text": [
      "Epoch: 96 \t| Train loss: 0.014 \t| Test loss: 25.587 \t| Train acc: 0.99 \t| Test acc: 0.19\n"
     ]
    },
    {
     "name": "stderr",
     "output_type": "stream",
     "text": [
      "100%|██████████| 706/706 [00:11<00:00, 61.43it/s]\n"
     ]
    },
    {
     "name": "stdout",
     "output_type": "stream",
     "text": [
      "Epoch: 97 \t| Train loss: 0.076 \t| Test loss: 14.665 \t| Train acc: 0.99 \t| Test acc: 0.2\n"
     ]
    },
    {
     "name": "stderr",
     "output_type": "stream",
     "text": [
      "100%|██████████| 706/706 [00:11<00:00, 60.36it/s]\n"
     ]
    },
    {
     "name": "stdout",
     "output_type": "stream",
     "text": [
      "Epoch: 98 \t| Train loss: 0.178 \t| Test loss: 24.483 \t| Train acc: 0.99 \t| Test acc: 0.19\n"
     ]
    },
    {
     "name": "stderr",
     "output_type": "stream",
     "text": [
      "100%|██████████| 706/706 [00:11<00:00, 59.45it/s]\n"
     ]
    },
    {
     "name": "stdout",
     "output_type": "stream",
     "text": [
      "Epoch: 99 \t| Train loss: 0.06 \t| Test loss: 6.555 \t| Train acc: 0.99 \t| Test acc: 0.2\n"
     ]
    }
   ],
   "source": [
    "train_losses = []    \n",
    "train_accs = []\n",
    "test_losses = []\n",
    "test_accs  = []\n",
    "\n",
    "for epoch in range(100):\n",
    "    \n",
    "    num_correct_train = 0\n",
    "    num_samples_train = 0\n",
    "    for batch, (X_train, y_train) in tqdm(enumerate(train_loader), total=len(train_loader)):\n",
    "        X_train = X_train.float().to(device)\n",
    "        y_train = y_train.float().to(device)\n",
    "        \n",
    "        train_preds = model(X_train)\n",
    "        train_loss = loss_function(train_preds, y_train)\n",
    "        \n",
    "        with torch.no_grad():\n",
    "            rounded_train_preds = torch.round(train_preds)\n",
    "            num_correct_train += torch.sum(rounded_train_preds == y_train)\n",
    "            num_samples_train += len(y_train)\n",
    "            \n",
    "        optimizer.zero_grad()\n",
    "        train_loss.backward()\n",
    "        \n",
    "        optimizer.step()\n",
    "    \n",
    "    train_acc = num_correct_train/num_samples_train\n",
    "    test_loss, test_acc = predict_test_data(model, test_loader)\n",
    "    \n",
    "    train_losses.append(train_loss.item())\n",
    "    test_losses.append(test_loss.item())\n",
    "    train_accs.append(train_acc.item())\n",
    "    test_accs.append(test_acc.item())\n",
    "        \n",
    "    print(f'Epoch: {epoch} \\t|' \\\n",
    "            f' Train loss: {np.round(train_loss.item(),3)} \\t|' \\\n",
    "            f' Test loss: {np.round(test_loss.item(),3)} \\t|' \\\n",
    "            f' Train acc: {np.round(train_acc.item(),2)} \\t|' \\\n",
    "            f' Test acc: {np.round(test_acc.item(),2)}')"
   ]
  },
  {
   "cell_type": "markdown",
   "metadata": {},
   "source": [
    "### **11 - Visualização das Curvas de Treinamento e Teste**"
   ]
  },
  {
   "cell_type": "code",
   "execution_count": 24,
   "metadata": {},
   "outputs": [
    {
     "data": {
      "image/png": "[encoded data removed]",
      "text/plain": [
       "<Figure size 640x480 with 1 Axes>"
      ]
     },
     "metadata": {},
     "output_type": "display_data"
    }
   ],
   "source": [
    "plt.plot(range(100), train_losses , label='train_losses')\n",
    "plt.plot(range(100), train_accs, label='train_accs')\n",
    "plt.title('Curva de Treinamento')\n",
    "plt.xlabel('Época')\n",
    "plt.ylabel('Loss')   \n",
    "plt.legend(bbox_to_anchor=(1.1, 1.05))\n",
    "plt.show()"
   ]
  },
  {
   "cell_type": "code",
   "execution_count": 25,
   "metadata": {},
   "outputs": [
    {
     "data": {
      "image/png": "[encoded data removed]",
      "text/plain": [
       "<Figure size 640x480 with 1 Axes>"
      ]
     },
     "metadata": {},
     "output_type": "display_data"
    }
   ],
   "source": [
    "plt.plot(range(100), test_losses , label='test_losses')\n",
    "plt.plot(range(100), test_accs, label='test_accs')\n",
    "plt.title('Curva de Teste')\n",
    "plt.xlabel('Época')\n",
    "plt.ylabel('Loss')  \n",
    "plt.legend(bbox_to_anchor=(1.1, 1.05))\n",
    "plt.show()"
   ]
  },
  {
   "cell_type": "code",
   "execution_count": 26,
   "metadata": {},
   "outputs": [
    {
     "data": {
      "image/png": "[encoded data removed]",
      "text/plain": [
       "<Figure size 640x480 with 1 Axes>"
      ]
     },
     "metadata": {},
     "output_type": "display_data"
    }
   ],
   "source": [
    "plt.plot(range(100), train_accs, label='train_accs')\n",
    "plt.plot(range(100), test_accs, label='test_accs')\n",
    "plt.title('Curva de Accs')\n",
    "plt.xlabel('Época')\n",
    "plt.ylabel('Loss')  \n",
    "plt.legend(bbox_to_anchor=(1.1, 1.05))\n",
    "plt.show()"
   ]
  },
  {
   "cell_type": "code",
   "execution_count": 27,
   "metadata": {},
   "outputs": [
    {
     "data": {
      "image/png": "[encoded data removed]",
      "text/plain": [
       "<Figure size 640x480 with 1 Axes>"
      ]
     },
     "metadata": {},
     "output_type": "display_data"
    }
   ],
   "source": [
    "plt.plot(range(100), test_losses , label='test_losses')\n",
    "plt.plot(range(100), train_losses , label='train_losses')\n",
    "plt.title('Curva de Loss')\n",
    "plt.xlabel('Época')\n",
    "plt.ylabel('Loss')   \n",
    "plt.legend(bbox_to_anchor=(1.1, 1.05))\n",
    "plt.show()"
   ]
  },
  {
   "cell_type": "markdown",
   "metadata": {},
   "source": [
    "### **11.5 - Aplicação do Modelo nos Dados Validados para Score**"
   ]
  },
  {
   "cell_type": "code",
   "execution_count": 28,
   "metadata": {},
   "outputs": [
    {
     "name": "stderr",
     "output_type": "stream",
     "text": [
      "100%|██████████| 3/3 [00:00<00:00, 74.72it/s]"
     ]
    },
    {
     "name": "stdout",
     "output_type": "stream",
     "text": [
      "71.875%\n"
     ]
    },
    {
     "name": "stderr",
     "output_type": "stream",
     "text": [
      "\n"
     ]
    }
   ],
   "source": [
    "with torch.no_grad():\n",
    "    listas = []\n",
    "    for batch, (X_val, y_val) in tqdm(enumerate(val_loader), total=len(val_loader)):\n",
    "        num_correct_train = 0\n",
    "        num_samples_train = 0\n",
    "        X_val = X_val.float().to(device)\n",
    "        y_val = y_val.float().to(device)\n",
    "        val_preds = model(X_val)\n",
    "        rounded_validation_preds = torch.round(val_preds)\n",
    "        num_correct_train += torch.sum(rounded_validation_preds == y_train)\n",
    "        num_samples_train += len(y_train)\n",
    "\n",
    "    acc = num_correct_train/num_samples_train\n",
    "\n",
    "acc = acc.item()*100\n",
    "print(str(acc) + '%')\n"
   ]
  },
  {
   "cell_type": "markdown",
   "metadata": {},
   "source": [
    "### **12 - Aplicação do Modelo nos Dados Não Validados**"
   ]
  },
  {
   "cell_type": "code",
   "execution_count": 29,
   "metadata": {},
   "outputs": [
    {
     "name": "stderr",
     "output_type": "stream",
     "text": [
      "100%|██████████| 44033/44033 [02:56<00:00, 249.67it/s]\n"
     ]
    }
   ],
   "source": [
    "todos = load_images(os.path.join(path_dir,'Todas/'), False)"
   ]
  },
  {
   "cell_type": "code",
   "execution_count": 30,
   "metadata": {},
   "outputs": [
    {
     "name": "stdout",
     "output_type": "stream",
     "text": [
      "(44033, 100, 100, 3)\n"
     ]
    }
   ],
   "source": [
    "print(todos.shape)"
   ]
  },
  {
   "cell_type": "code",
   "execution_count": 31,
   "metadata": {},
   "outputs": [],
   "source": [
    "class Validacao():\n",
    "    def __init__(self, images, transform=None):\n",
    "        self.images = images\n",
    "        self.transform = transform\n",
    "        \n",
    "    def __len__(self):\n",
    "        return len(self.images)\n",
    "    \n",
    "    def __getitem__(self, index):\n",
    "        image = self.images[index]\n",
    "        \n",
    "        if self.transform:\n",
    "            image = self.transform(image)\n",
    "        \n",
    "        return (image)"
   ]
  },
  {
   "cell_type": "code",
   "execution_count": 32,
   "metadata": {},
   "outputs": [],
   "source": [
    "transforms_todos = transforms.Compose([transforms.ToTensor(), \n",
    "                                       transforms.Normalize(mean=[0.5,0.5,0.5], std=[0.5,0.5,0.5]) # squeeze to -1 and 1\n",
    "                                      ])"
   ]
  },
  {
   "cell_type": "code",
   "execution_count": 33,
   "metadata": {},
   "outputs": [],
   "source": [
    "todos_dataset  = Validacao(images=todos, transform=transforms_todos)"
   ]
  },
  {
   "cell_type": "code",
   "execution_count": 34,
   "metadata": {},
   "outputs": [],
   "source": [
    "todos_loader  = DataLoader(todos_dataset, batch_size=32, shuffle=True, drop_last=True)"
   ]
  },
  {
   "cell_type": "code",
   "execution_count": 39,
   "metadata": {},
   "outputs": [],
   "source": [
    "with torch.no_grad():\n",
    "\n",
    "    n_pista = 0\n",
    "    n_nao_pista = 0\n",
    "    listas = []\n",
    "\n",
    "    for batch, (val_todo) in enumerate(todos_loader):\n",
    "        val_todo = val_todo.to(device)\n",
    "        validation_preds = model(val_todo)\n",
    "        rounded_validation_preds = torch.round(validation_preds)\n",
    "        list = [int(a[0]) for a in rounded_validation_preds]\n",
    "        listas.append(list)\n",
    "        n_nao_pista += list.count(1) \n",
    "        n_pista += list.count(0) "
   ]
  },
  {
   "cell_type": "code",
   "execution_count": 40,
   "metadata": {},
   "outputs": [
    {
     "name": "stdout",
     "output_type": "stream",
     "text": [
      "[1, 1, 1, 1, 1, 1, 1, 1, 1, 1, 1, 0, 1, 0, 0, 1, 1, 0, 1, 1, 1, 1, 1, 1, 1, 1, 1, 1, 1, 1, 1, 0]\n",
      "[1, 1, 1, 1, 0, 1, 0, 1, 1, 1, 1, 1, 1, 1, 1, 1, 1, 0, 1, 0, 1, 1, 1, 1, 1, 1, 1, 1, 1, 1, 1, 1]\n",
      "[0, 1, 1, 1, 1, 1, 1, 0, 1, 0, 1, 1, 1, 1, 1, 1, 1, 1, 1, 0, 1, 1, 1, 0, 1, 1, 1, 1, 1, 1, 1, 1]\n",
      "[1, 1, 1, 1, 1, 1, 1, 1, 1, 1, 1, 1, 1, 1, 0, 0, 1, 0, 1, 1, 1, 1, 0, 1, 1, 1, 1, 0, 1, 1, 1, 0]\n",
      "[1, 1, 1, 0, 1, 1, 1, 1, 1, 1, 1, 1, 1, 1, 1, 1, 1, 0, 1, 1, 1, 1, 1, 1, 1, 1, 1, 1, 0, 0, 1, 0]\n",
      "[0, 1, 1, 1, 1, 1, 1, 0, 1, 1, 0, 1, 0, 1, 0, 1, 1, 1, 0, 1, 1, 1, 1, 1, 1, 1, 1, 1, 1, 0, 1, 1]\n",
      "[0, 1, 1, 1, 1, 1, 1, 1, 1, 1, 1, 1, 1, 0, 1, 1, 1, 1, 1, 1, 1, 1, 1, 1, 1, 0, 1, 1, 1, 1, 1, 1]\n",
      "[1, 1, 1, 1, 1, 1, 1, 1, 1, 1, 1, 1, 1, 1, 1, 1, 1, 1, 1, 1, 0, 1, 1, 1, 1, 1, 0, 1, 1, 1, 1, 1]\n",
      "[1, 1, 1, 0, 1, 1, 1, 1, 1, 1, 1, 1, 1, 0, 1, 1, 1, 1, 1, 1, 1, 1, 0, 1, 1, 1, 0, 1, 1, 1, 1, 0]\n",
      "[1, 1, 1, 1, 1, 1, 1, 1, 1, 1, 0, 1, 1, 1, 1, 0, 1, 0, 0, 1, 1, 1, 1, 1, 1, 1, 1, 1, 1, 1, 1, 1]\n"
     ]
    }
   ],
   "source": [
    "for lista in listas[:10]:\n",
    "    print(lista)"
   ]
  },
  {
   "cell_type": "code",
   "execution_count": 41,
   "metadata": {},
   "outputs": [
    {
     "data": {
      "text/plain": [
       "6082"
      ]
     },
     "execution_count": 41,
     "metadata": {},
     "output_type": "execute_result"
    }
   ],
   "source": [
    "n_pista"
   ]
  },
  {
   "cell_type": "code",
   "execution_count": 42,
   "metadata": {},
   "outputs": [
    {
     "data": {
      "text/plain": [
       "37950"
      ]
     },
     "execution_count": 42,
     "metadata": {},
     "output_type": "execute_result"
    }
   ],
   "source": [
    "n_nao_pista"
   ]
  }
 ],
 "metadata": {
  "kernelspec": {
   "display_name": "Python 3",
   "language": "python",
   "name": "python3"
  },
  "language_info": {
   "codemirror_mode": {
    "name": "ipython",
    "version": 3
   },
   "file_extension": ".py",
   "mimetype": "text/x-python",
   "name": "python",
   "nbconvert_exporter": "python",
   "pygments_lexer": "ipython3",
   "version": "3.12.6"
  }
 },
 "nbformat": 4,
 "nbformat_minor": 4
}
