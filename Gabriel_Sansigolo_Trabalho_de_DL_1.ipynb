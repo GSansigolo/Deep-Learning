{
 "cells": [
  {
   "cell_type": "markdown",
   "metadata": {
    "tags": []
   },
   "source": [
    "# **Atividade - Uso de Redes Neurais Profundas**"
   ]
  },
  {
   "cell_type": "markdown",
   "metadata": {
    "tags": []
   },
   "source": [
    "## **Disciplina:** CAP-421-3 Aprendizado Profundo\n",
    "\n",
    "**Discintes:**\n",
    "\n",
    "Gabriel Sansigolo"
   ]
  },
  {
   "cell_type": "markdown",
   "metadata": {
    "tags": []
   },
   "source": [
    "### **Importando bibliotecas**"
   ]
  },
  {
   "cell_type": "code",
   "execution_count": 1,
   "metadata": {},
   "outputs": [],
   "source": [
    "import os\n",
    "import numpy as np\n",
    "import matplotlib.pyplot as plt\n",
    "import torch\n",
    "import torch.nn as nn\n",
    "import torch.optim as optim\n",
    "import pandas as pd\n",
    "\n",
    "from torchinfo import summary"
   ]
  },
  {
   "cell_type": "markdown",
   "metadata": {},
   "source": [
    "### **Utiliza GPU (cuda), caso contrário, utiliza CPU**"
   ]
  },
  {
   "cell_type": "code",
   "execution_count": 2,
   "metadata": {},
   "outputs": [],
   "source": [
    "device = 'cuda' if torch.cuda.is_available() else 'cpu'"
   ]
  },
  {
   "cell_type": "markdown",
   "metadata": {},
   "source": [
    "# *VGG19*"
   ]
  },
  {
   "cell_type": "code",
   "execution_count": 3,
   "metadata": {},
   "outputs": [],
   "source": [
    "path_dir = os.path.dirname(\"\")\n",
    "\n",
    "df_treinamento_vgg19 = pd.read_csv(os.path.join(path_dir, \"deep_learning/vgg19/treinamento_vgg19.csv\"), low_memory=False)\n",
    "df_treinamento_vgg19 = df_treinamento_vgg19.reset_index()  \n",
    "df_treinamento_vgg19=df_treinamento_vgg19.drop(df_treinamento_vgg19.index[:2])\n",
    "\n",
    "df_teste_vgg19 = pd.read_csv(os.path.join(path_dir, \"deep_learning/vgg19/teste_vgg19.csv\"), low_memory=False)\n",
    "df_teste_vgg19 = df_teste_vgg19.reset_index()  \n",
    "df_teste_vgg19=df_teste_vgg19.drop(df_teste_vgg19.index[:2])"
   ]
  },
  {
   "cell_type": "code",
   "execution_count": 4,
   "metadata": {},
   "outputs": [],
   "source": [
    "X_train = []\n",
    "y_train = []\n",
    "X_test = []\n",
    "y_test = []"
   ]
  },
  {
   "cell_type": "markdown",
   "metadata": {},
   "source": [
    "### **(VGG19) 1 - Dividindo os dados (treinamento e teste)**"
   ]
  },
  {
   "cell_type": "code",
   "execution_count": 5,
   "metadata": {},
   "outputs": [],
   "source": [
    "new_df_treinamento_vgg19 = df_treinamento_vgg19.drop('category', axis=1)\n",
    "new_df_treinamento_vgg19 = new_df_treinamento_vgg19.astype(np.float32)\n",
    "X_train_tensor = torch.tensor(new_df_treinamento_vgg19.values)\n",
    "\n",
    "for row in df_treinamento_vgg19.itertuples(index=False, name='Pandas'):\n",
    "    y_train.append(0 if row.category == \"NaoPistas\" else 1)\n",
    "    \n",
    "new_df_teste_vgg19 = df_teste_vgg19.drop('category', axis=1)\n",
    "new_df_teste_vgg19 = new_df_teste_vgg19.astype(np.float32)\n",
    "X_test_tensor = torch.tensor(new_df_teste_vgg19.values)\n",
    "\n",
    "for row in df_teste_vgg19.itertuples(index=False, name='Pandas'):\n",
    "    y_test.append(0 if row.category == \"NaoPistas\" else 1)"
   ]
  },
  {
   "cell_type": "code",
   "execution_count": 6,
   "metadata": {},
   "outputs": [],
   "source": [
    "y_train_tensor = torch.tensor(y_train, device=device) \n",
    "y_test_tensor = torch.tensor(y_test,  device=device) "
   ]
  },
  {
   "cell_type": "markdown",
   "metadata": {},
   "source": [
    "### **(VGG19) 2 - Verificação das Dimensões dos Dados de Treinamento e Teste**"
   ]
  },
  {
   "cell_type": "code",
   "execution_count": 7,
   "metadata": {},
   "outputs": [
    {
     "name": "stdout",
     "output_type": "stream",
     "text": [
      "torch.Size([19622, 1001])\n",
      "torch.Size([19622])\n",
      "torch.Size([2465, 1001])\n",
      "torch.Size([2465])\n"
     ]
    }
   ],
   "source": [
    "print(X_train_tensor.shape)\n",
    "print(y_train_tensor.shape)\n",
    "print(X_test_tensor.shape)\n",
    "print(y_test_tensor.shape)"
   ]
  },
  {
   "cell_type": "markdown",
   "metadata": {},
   "source": [
    "### **(VGG19) 3 - Definindo a Rede Neural Convolucional (CNN) para Classificação**"
   ]
  },
  {
   "cell_type": "code",
   "execution_count": 8,
   "metadata": {},
   "outputs": [],
   "source": [
    "n_timesteps, n_features, n_outputs = X_train_tensor.shape[0], X_train_tensor.shape[1], y_train_tensor.shape[0]"
   ]
  },
  {
   "cell_type": "code",
   "execution_count": 9,
   "metadata": {},
   "outputs": [],
   "source": [
    "class ConvNet1D(nn.Module):\n",
    "    def __init__(self):\n",
    "        super().__init__()\n",
    "        self.layer1 = nn.Sequential(\n",
    "            nn.Conv1d(n_features, n_features, kernel_size=30),\n",
    "            nn.ReLU(),\n",
    "            nn.Dropout(0.5),\n",
    "            nn.MaxPool1d(10))\n",
    "        self.layer2 = nn.Flatten()\n",
    "        self.layer3 = nn.Sequential(\n",
    "            nn.Linear(97,100),\n",
    "            nn.ReLU())\n",
    "        self.layer4 = nn.Sequential(\n",
    "            nn.Linear(100,2),\n",
    "            nn.Softmax(dim=1))\n",
    "\n",
    "    def forward(self, x):\n",
    "        out = self.layer1(x)\n",
    "        out = self.layer2(out)\n",
    "        out = self.layer3(out)\n",
    "        out = self.layer4(out)\n",
    "        return out"
   ]
  },
  {
   "cell_type": "code",
   "execution_count": 10,
   "metadata": {},
   "outputs": [],
   "source": [
    "model = ConvNet1D().to(device)"
   ]
  },
  {
   "cell_type": "code",
   "execution_count": 11,
   "metadata": {},
   "outputs": [
    {
     "data": {
      "text/plain": [
       "=================================================================\n",
       "Layer (type:depth-idx)                   Param #\n",
       "=================================================================\n",
       "ConvNet1D                                --\n",
       "├─Sequential: 1-1                        --\n",
       "│    └─Conv1d: 2-1                       30,061,031\n",
       "│    └─ReLU: 2-2                         --\n",
       "│    └─Dropout: 2-3                      --\n",
       "│    └─MaxPool1d: 2-4                    --\n",
       "├─Flatten: 1-2                           --\n",
       "├─Sequential: 1-3                        --\n",
       "│    └─Linear: 2-5                       9,800\n",
       "│    └─ReLU: 2-6                         --\n",
       "├─Sequential: 1-4                        --\n",
       "│    └─Linear: 2-7                       202\n",
       "│    └─Softmax: 2-8                      --\n",
       "=================================================================\n",
       "Total params: 30,071,033\n",
       "Trainable params: 30,071,033\n",
       "Non-trainable params: 0\n",
       "================================================================="
      ]
     },
     "execution_count": 11,
     "metadata": {},
     "output_type": "execute_result"
    }
   ],
   "source": [
    "summary(model)"
   ]
  },
  {
   "cell_type": "markdown",
   "metadata": {},
   "source": [
    "### **(VGG19) 4 - Definição da Função de Perda e do Otimizador**"
   ]
  },
  {
   "cell_type": "code",
   "execution_count": 12,
   "metadata": {},
   "outputs": [],
   "source": [
    "criterion = nn.CrossEntropyLoss()\n",
    "optimizer = torch.optim.Adam(model.parameters(), lr=0.001)"
   ]
  },
  {
   "cell_type": "markdown",
   "metadata": {},
   "source": [
    "### **(VGG19) 5 - Hiperparâmetros**"
   ]
  },
  {
   "cell_type": "code",
   "execution_count": 13,
   "metadata": {},
   "outputs": [],
   "source": [
    "num_epochs = 10\n",
    "total_step = X_train_tensor.shape[0]"
   ]
  },
  {
   "cell_type": "markdown",
   "metadata": {},
   "source": [
    "### **(VGG19) 6 - Treinamento do Modelo CNN e Avaliação do Desempenho**"
   ]
  },
  {
   "cell_type": "code",
   "execution_count": 14,
   "metadata": {},
   "outputs": [
    {
     "name": "stdout",
     "output_type": "stream",
     "text": [
      "Epoch: 0 \t| Train loss: 1.24019 \t| Train acc: 0.9427 \t|\n",
      "Epoch: 1 \t| Train loss: 1.23835 \t| Train acc: 0.9474 \t|\n",
      "Epoch: 2 \t| Train loss: 1.24691 \t| Train acc: 0.9474 \t|\n",
      "Epoch: 3 \t| Train loss: 1.24667 \t| Train acc: 0.9474 \t|\n",
      "Epoch: 4 \t| Train loss: 1.25075 \t| Train acc: 0.9474 \t|\n",
      "Epoch: 5 \t| Train loss: 1.25527 \t| Train acc: 0.9474 \t|\n",
      "Epoch: 6 \t| Train loss: 1.26295 \t| Train acc: 0.9474 \t|\n",
      "Epoch: 7 \t| Train loss: 1.26547 \t| Train acc: 0.9474 \t|\n",
      "Epoch: 8 \t| Train loss: 1.27142 \t| Train acc: 0.9474 \t|\n",
      "Epoch: 9 \t| Train loss: 1.27688 \t| Train acc: 0.9474 \t|\n"
     ]
    }
   ],
   "source": [
    "loss_list = []\n",
    "acc_list = []\n",
    "acc_list_epoch = []\n",
    "batch_size = 1001\n",
    "\n",
    "for epoch in range(num_epochs):\n",
    "    correct_sum = 0\n",
    "    for i in range(int(np.floor(total_step/batch_size))): # split data into batches\n",
    "        trainXT_seg = X_train_tensor[i*batch_size:(i+1)*batch_size]\n",
    "        trainyT_seg = y_train_tensor[i*batch_size:(i+1)*batch_size]\n",
    "        # Run the forward pass\n",
    "        outputs = model(trainXT_seg)\n",
    "        loss = criterion(outputs, trainyT_seg)\n",
    "        loss_list.append(loss.item())\n",
    "\n",
    "        # Backprop and perform Adam optimisation\n",
    "        optimizer.zero_grad()\n",
    "        loss.backward()\n",
    "        optimizer.step()\n",
    "        # Track the accuracy\n",
    "        total = trainyT_seg.size(0)\n",
    "        _, predicted = torch.max(outputs, -1)\n",
    "        _, actual = torch.max(trainyT_seg, -1)\n",
    "        correct = (predicted == actual).sum().item()\n",
    "        correct_sum = correct_sum + (correct/total)\n",
    "        acc_list.append(correct / total)\n",
    "\n",
    "    acc_list_epoch.append(correct_sum/int(np.floor(total_step/batch_size)))\n",
    "    print(f'Epoch: {epoch} \\t|' \\\n",
    "        f' Train loss: {np.round(loss.item(),5)} \\t|' \\\n",
    "        f' Train acc: {np.round(correct_sum/int(np.floor(total_step/batch_size)),4)} \\t|')"
   ]
  },
  {
   "cell_type": "markdown",
   "metadata": {},
   "source": [
    "### **(VGG19) 7 - Visualização da Curva de Acurácia**"
   ]
  },
  {
   "cell_type": "code",
   "execution_count": 15,
   "metadata": {},
   "outputs": [
    {
     "data": {
      "image/png": "[encoded data removed]",
      "text/plain": [
       "<Figure size 640x480 with 1 Axes>"
      ]
     },
     "metadata": {},
     "output_type": "display_data"
    }
   ],
   "source": [
    "plt.title('Training Accuracy')\n",
    "plt.ylabel('Accuracy')\n",
    "plt.xlabel('Epoch')\n",
    "plt.grid(True)\n",
    "plt.autoscale(axis='x', tight=True)\n",
    "plt.plot(acc_list_epoch)\n",
    "plt.show()"
   ]
  },
  {
   "cell_type": "markdown",
   "metadata": {},
   "source": [
    "### **(VGG19) 8 - Rodando a rede nos dados de validação**"
   ]
  },
  {
   "cell_type": "code",
   "execution_count": 16,
   "metadata": {},
   "outputs": [],
   "source": [
    "df_todas_vgg19 = pd.read_csv(os.path.join(path_dir, \"deep_learning/vgg19/todas_vgg19.csv\"), low_memory=False)\n",
    "df_todas_vgg19 = df_todas_vgg19.reset_index()  \n",
    "df_todas_vgg19 = df_todas_vgg19.drop(df_todas_vgg19.index[:2])"
   ]
  },
  {
   "cell_type": "code",
   "execution_count": 17,
   "metadata": {},
   "outputs": [],
   "source": [
    "new_df_todas_vgg19 = df_todas_vgg19.astype(np.float32)\n",
    "X_validation_tensor = torch.tensor(new_df_todas_vgg19.values)"
   ]
  },
  {
   "cell_type": "code",
   "execution_count": 18,
   "metadata": {},
   "outputs": [
    {
     "name": "stdout",
     "output_type": "stream",
     "text": [
      "torch.Size([44033, 1001])\n"
     ]
    }
   ],
   "source": [
    "print(X_validation_tensor.shape)"
   ]
  },
  {
   "cell_type": "code",
   "execution_count": 19,
   "metadata": {},
   "outputs": [
    {
     "data": {
      "text/plain": [
       "[tensor([0, 0, 0,  ..., 0, 0, 0]),\n",
       " tensor([0, 0, 0,  ..., 0, 0, 0]),\n",
       " tensor([0, 0, 0,  ..., 0, 0, 0]),\n",
       " tensor([0, 0, 0,  ..., 0, 0, 0]),\n",
       " tensor([0, 0, 0,  ..., 0, 0, 0])]"
      ]
     },
     "execution_count": 19,
     "metadata": {},
     "output_type": "execute_result"
    }
   ],
   "source": [
    "predicts = []\n",
    "batch_size = 1001\n",
    "\n",
    "for epoch in range(num_epochs):\n",
    "    correct_sum = 0\n",
    "    for i in range(int(np.floor(total_step/batch_size))): # split data into batches\n",
    "        validationXT_seg = X_validation_tensor[i*batch_size:(i+1)*batch_size]\n",
    "        outputs = model(validationXT_seg)\n",
    "        total = validationXT_seg.size(0)\n",
    "        _, predicted = torch.max(outputs, -1)\n",
    "        predicts.append(predicted)\n",
    "\n",
    "predicts[:5]"
   ]
  },
  {
   "cell_type": "markdown",
   "metadata": {},
   "source": [
    "# *Squeezenet*"
   ]
  },
  {
   "cell_type": "code",
   "execution_count": 20,
   "metadata": {},
   "outputs": [],
   "source": [
    "path_dir = os.path.dirname(\"\")\n",
    "\n",
    "df_treinamento_squeezenet = pd.read_csv(os.path.join(path_dir, \"deep_learning/squeezenet/treinamento_squeezenet.csv\"), low_memory=False)\n",
    "df_treinamento_squeezenet = df_treinamento_squeezenet.reset_index()  \n",
    "df_treinamento_squeezenet=df_treinamento_squeezenet.drop(df_treinamento_squeezenet.index[:2])\n",
    "\n",
    "df_teste_squeezenet = pd.read_csv(os.path.join(path_dir, \"deep_learning/squeezenet/teste_squeezenet.csv\"), low_memory=False)\n",
    "df_teste_squeezenet = df_teste_squeezenet.reset_index()  \n",
    "df_teste_squeezenet=df_teste_squeezenet.drop(df_teste_squeezenet.index[:2])"
   ]
  },
  {
   "cell_type": "markdown",
   "metadata": {},
   "source": [
    "### **(Squeezenet) 1 - Dividindo os dados (treinamento e teste)**"
   ]
  },
  {
   "cell_type": "code",
   "execution_count": 21,
   "metadata": {},
   "outputs": [],
   "source": [
    "new_df_treinamento_squeezenet = df_treinamento_squeezenet.drop('category', axis=1)\n",
    "new_df_treinamento_squeezenet = new_df_treinamento_squeezenet.astype(np.float32)\n",
    "X_train_tensor = torch.tensor(new_df_treinamento_squeezenet.values)\n",
    "\n",
    "for row in df_treinamento_squeezenet.itertuples(index=False, name='Pandas'):\n",
    "    y_train.append(0 if row.category == \"NaoPistas\" else 1)\n",
    "    \n",
    "new_df_teste_squeezenet = df_teste_squeezenet.drop('category', axis=1)\n",
    "new_df_teste_squeezenet = new_df_teste_squeezenet.astype(np.float32)\n",
    "X_test_tensor = torch.tensor(new_df_teste_squeezenet.values)\n",
    "\n",
    "for row in df_teste_squeezenet.itertuples(index=False, name='Pandas'):\n",
    "    y_test.append(0 if row.category == \"NaoPistas\" else 1)"
   ]
  },
  {
   "cell_type": "code",
   "execution_count": 22,
   "metadata": {},
   "outputs": [],
   "source": [
    "y_train_tensor = torch.tensor(y_train, device=device) \n",
    "y_test_tensor = torch.tensor(y_test,  device=device) "
   ]
  },
  {
   "cell_type": "markdown",
   "metadata": {},
   "source": [
    "### **(Squeezenet) 2 - Verificação das Dimensões dos Dados de Treinamento e Teste**"
   ]
  },
  {
   "cell_type": "code",
   "execution_count": 23,
   "metadata": {},
   "outputs": [
    {
     "name": "stdout",
     "output_type": "stream",
     "text": [
      "torch.Size([19622, 1001])\n",
      "torch.Size([39244])\n",
      "torch.Size([2465, 1001])\n",
      "torch.Size([4930])\n"
     ]
    }
   ],
   "source": [
    "print(X_train_tensor.shape)\n",
    "print(y_train_tensor.shape)\n",
    "print(X_test_tensor.shape)\n",
    "print(y_test_tensor.shape)"
   ]
  },
  {
   "cell_type": "markdown",
   "metadata": {},
   "source": [
    "### **(Squeezenet) 3 - Definindo a Rede Neural Convolucional (CNN) para Classificação**"
   ]
  },
  {
   "cell_type": "code",
   "execution_count": 24,
   "metadata": {},
   "outputs": [],
   "source": [
    "n_timesteps, n_features, n_outputs = X_train_tensor.shape[0], X_train_tensor.shape[1], y_train_tensor.shape[0]"
   ]
  },
  {
   "cell_type": "code",
   "execution_count": 25,
   "metadata": {},
   "outputs": [],
   "source": [
    "class ConvNet1D(nn.Module):\n",
    "    def __init__(self):\n",
    "        super().__init__()\n",
    "        self.layer1 = nn.Sequential(\n",
    "            nn.Conv1d(n_features, n_features, kernel_size=30),\n",
    "            nn.ReLU(),\n",
    "            nn.Dropout(0.5),\n",
    "            nn.MaxPool1d(10))\n",
    "        self.layer2 = nn.Flatten()\n",
    "        self.layer3 = nn.Sequential(\n",
    "            nn.Linear(97,700),\n",
    "            nn.ReLU())\n",
    "        self.layer4 = nn.Sequential(\n",
    "            nn.Linear(700,2),\n",
    "            nn.Softmax(dim=1))\n",
    "\n",
    "    def forward(self, x):\n",
    "        out = self.layer1(x)\n",
    "        out = self.layer2(out)\n",
    "        out = self.layer3(out)\n",
    "        out = self.layer4(out)\n",
    "        return out"
   ]
  },
  {
   "cell_type": "code",
   "execution_count": 26,
   "metadata": {},
   "outputs": [],
   "source": [
    "model = ConvNet1D().to(device)"
   ]
  },
  {
   "cell_type": "code",
   "execution_count": 27,
   "metadata": {},
   "outputs": [
    {
     "data": {
      "text/plain": [
       "=================================================================\n",
       "Layer (type:depth-idx)                   Param #\n",
       "=================================================================\n",
       "ConvNet1D                                --\n",
       "├─Sequential: 1-1                        --\n",
       "│    └─Conv1d: 2-1                       30,061,031\n",
       "│    └─ReLU: 2-2                         --\n",
       "│    └─Dropout: 2-3                      --\n",
       "│    └─MaxPool1d: 2-4                    --\n",
       "├─Flatten: 1-2                           --\n",
       "├─Sequential: 1-3                        --\n",
       "│    └─Linear: 2-5                       68,600\n",
       "│    └─ReLU: 2-6                         --\n",
       "├─Sequential: 1-4                        --\n",
       "│    └─Linear: 2-7                       1,402\n",
       "│    └─Softmax: 2-8                      --\n",
       "=================================================================\n",
       "Total params: 30,131,033\n",
       "Trainable params: 30,131,033\n",
       "Non-trainable params: 0\n",
       "================================================================="
      ]
     },
     "execution_count": 27,
     "metadata": {},
     "output_type": "execute_result"
    }
   ],
   "source": [
    "summary(model)"
   ]
  },
  {
   "cell_type": "markdown",
   "metadata": {},
   "source": [
    "### **(Squeezenet) 4 - Definição da Função de Perda e do Otimizador**"
   ]
  },
  {
   "cell_type": "code",
   "execution_count": 28,
   "metadata": {},
   "outputs": [],
   "source": [
    "criterion = nn.CrossEntropyLoss()\n",
    "optimizer = torch.optim.Adam(model.parameters(), lr=0.001)"
   ]
  },
  {
   "cell_type": "markdown",
   "metadata": {},
   "source": [
    "### **(Squeezenet) 5 - Hiperparâmetros**"
   ]
  },
  {
   "cell_type": "code",
   "execution_count": 29,
   "metadata": {},
   "outputs": [],
   "source": [
    "num_epochs = 10\n",
    "total_step = X_train_tensor.shape[0]"
   ]
  },
  {
   "cell_type": "markdown",
   "metadata": {},
   "source": [
    "### **(Squeezenet) 6 - Treinamento do Modelo CNN e Avaliação do Desempenho**"
   ]
  },
  {
   "cell_type": "code",
   "execution_count": 30,
   "metadata": {},
   "outputs": [
    {
     "name": "stdout",
     "output_type": "stream",
     "text": [
      "Epoch: 0 \t| Train loss: 1.19196 \t| Train acc: 0.9297 \t|\n",
      "Epoch: 1 \t| Train loss: 1.22089 \t| Train acc: 0.9474 \t|\n",
      "Epoch: 2 \t| Train loss: 1.24572 \t| Train acc: 0.9474 \t|\n",
      "Epoch: 3 \t| Train loss: 1.26243 \t| Train acc: 0.9474 \t|\n",
      "Epoch: 4 \t| Train loss: 1.27528 \t| Train acc: 0.9474 \t|\n",
      "Epoch: 5 \t| Train loss: 1.28573 \t| Train acc: 0.9474 \t|\n",
      "Epoch: 6 \t| Train loss: 1.29181 \t| Train acc: 0.9474 \t|\n",
      "Epoch: 7 \t| Train loss: 1.2972 \t| Train acc: 0.9474 \t|\n",
      "Epoch: 8 \t| Train loss: 1.29963 \t| Train acc: 0.9474 \t|\n",
      "Epoch: 9 \t| Train loss: 1.30212 \t| Train acc: 0.9474 \t|\n"
     ]
    }
   ],
   "source": [
    "loss_list = []\n",
    "acc_list = []\n",
    "acc_list_epoch = []\n",
    "batch_size = 1001\n",
    "\n",
    "for epoch in range(num_epochs):\n",
    "    correct_sum = 0\n",
    "    for i in range(int(np.floor(total_step/batch_size))): # split data into batches\n",
    "        trainXT_seg = X_train_tensor[i*batch_size:(i+1)*batch_size]\n",
    "        trainyT_seg = y_train_tensor[i*batch_size:(i+1)*batch_size]\n",
    "        # Run the forward pass\n",
    "        outputs = model(trainXT_seg)\n",
    "        loss = criterion(outputs, trainyT_seg)\n",
    "        loss_list.append(loss.item())\n",
    "\n",
    "        # Backprop and perform Adam optimisation\n",
    "        optimizer.zero_grad()\n",
    "        loss.backward()\n",
    "        optimizer.step()\n",
    "        # Track the accuracy\n",
    "        total = trainyT_seg.size(0)\n",
    "        _, predicted = torch.max(outputs, -1)\n",
    "        _, actual = torch.max(trainyT_seg, -1)\n",
    "        correct = (predicted == actual).sum().item()\n",
    "        correct_sum = correct_sum + (correct/total)\n",
    "        acc_list.append(correct / total)\n",
    "\n",
    "    acc_list_epoch.append(correct_sum/int(np.floor(total_step/batch_size)))\n",
    "    print(f'Epoch: {epoch} \\t|' \\\n",
    "        f' Train loss: {np.round(loss.item(),5)} \\t|' \\\n",
    "        f' Train acc: {np.round(correct_sum/int(np.floor(total_step/batch_size)),4)} \\t|')"
   ]
  },
  {
   "cell_type": "markdown",
   "metadata": {},
   "source": [
    "### **(Squeezenet) 7 - Visualização da Curva de Acurácia**"
   ]
  },
  {
   "cell_type": "code",
   "execution_count": 31,
   "metadata": {},
   "outputs": [
    {
     "data": {
      "image/png": "[encoded data removed]",
      "text/plain": [
       "<Figure size 640x480 with 1 Axes>"
      ]
     },
     "metadata": {},
     "output_type": "display_data"
    }
   ],
   "source": [
    "plt.title('Training Accuracy')\n",
    "plt.ylabel('Accuracy')\n",
    "plt.xlabel('Epoch')\n",
    "plt.grid(True)\n",
    "plt.autoscale(axis='x', tight=True)\n",
    "plt.plot(acc_list_epoch)\n",
    "plt.show()"
   ]
  },
  {
   "cell_type": "markdown",
   "metadata": {},
   "source": [
    "### **(Squeezenet) 8 - Rodando a rede nos dados de validação**"
   ]
  },
  {
   "cell_type": "code",
   "execution_count": 32,
   "metadata": {},
   "outputs": [],
   "source": [
    "df_todas_squeezenet = pd.read_csv(os.path.join(path_dir, \"deep_learning/squeezenet/todas_squeezenet.csv\"), low_memory=False)\n",
    "df_todas_squeezenet = df_todas_squeezenet.reset_index()  \n",
    "df_todas_squeezenet = df_todas_squeezenet.drop(df_todas_squeezenet.index[:2])"
   ]
  },
  {
   "cell_type": "code",
   "execution_count": 33,
   "metadata": {},
   "outputs": [],
   "source": [
    "new_df_todas_squeezenet = df_todas_squeezenet.astype(np.float32)\n",
    "X_validation_tensor = torch.tensor(new_df_todas_squeezenet.values)"
   ]
  },
  {
   "cell_type": "code",
   "execution_count": 34,
   "metadata": {},
   "outputs": [
    {
     "name": "stdout",
     "output_type": "stream",
     "text": [
      "torch.Size([25889, 1001])\n"
     ]
    }
   ],
   "source": [
    "print(X_validation_tensor.shape)"
   ]
  },
  {
   "cell_type": "code",
   "execution_count": 35,
   "metadata": {},
   "outputs": [
    {
     "data": {
      "text/plain": [
       "[tensor([0, 0, 0,  ..., 0, 0, 0]),\n",
       " tensor([0, 0, 0,  ..., 0, 0, 0]),\n",
       " tensor([0, 0, 0,  ..., 0, 0, 0]),\n",
       " tensor([0, 0, 0,  ..., 0, 0, 0]),\n",
       " tensor([0, 0, 0,  ..., 0, 0, 0])]"
      ]
     },
     "execution_count": 35,
     "metadata": {},
     "output_type": "execute_result"
    }
   ],
   "source": [
    "predicts = []\n",
    "batch_size = 1001\n",
    "\n",
    "for epoch in range(num_epochs):\n",
    "    correct_sum = 0\n",
    "    for i in range(int(np.floor(total_step/batch_size))): # split data into batches\n",
    "        validationXT_seg = X_validation_tensor[i*batch_size:(i+1)*batch_size]\n",
    "        outputs = model(validationXT_seg)\n",
    "        total = validationXT_seg.size(0)\n",
    "        _, predicted = torch.max(outputs, -1)\n",
    "        predicts.append(predicted)\n",
    "\n",
    "predicts[:5]"
   ]
  },
  {
   "cell_type": "markdown",
   "metadata": {},
   "source": [
    "# *Painters*"
   ]
  },
  {
   "cell_type": "code",
   "execution_count": 36,
   "metadata": {},
   "outputs": [],
   "source": [
    "path_dir = os.path.dirname(\"\")\n",
    "\n",
    "df_treinamento_painters = pd.read_csv(os.path.join(path_dir, \"deep_learning/painters/treinamento_painters.csv\"), low_memory=False)\n",
    "df_treinamento_painters = df_treinamento_painters.reset_index()  \n",
    "df_treinamento_painters=df_treinamento_painters.drop(df_treinamento_painters.index[:2])\n",
    "\n",
    "df_teste_painters = pd.read_csv(os.path.join(path_dir, \"deep_learning/painters/teste_painters.csv\"), low_memory=False)\n",
    "df_teste_painters = df_teste_painters.reset_index()  \n",
    "df_teste_painters=df_teste_painters.drop(df_teste_painters.index[:2])"
   ]
  },
  {
   "cell_type": "markdown",
   "metadata": {},
   "source": [
    "### **(Painters) 1 - Dividindo os dados (treinamento e teste)**"
   ]
  },
  {
   "cell_type": "code",
   "execution_count": 37,
   "metadata": {},
   "outputs": [],
   "source": [
    "new_df_treinamento_painters = df_treinamento_painters.drop('category', axis=1)\n",
    "new_df_treinamento_painters = new_df_treinamento_painters.astype(np.float32)\n",
    "X_train_tensor = torch.tensor(new_df_treinamento_painters.values)\n",
    "\n",
    "for row in df_treinamento_painters.itertuples(index=False, name='Pandas'):\n",
    "    y_train.append(0 if row.category == \"NaoPistas\" else 1)\n",
    "    \n",
    "new_df_teste_painters = df_teste_painters.drop('category', axis=1)\n",
    "new_df_teste_painters = new_df_teste_painters.astype(np.float32)\n",
    "X_test_tensor = torch.tensor(new_df_teste_painters.values)\n",
    "\n",
    "for row in df_teste_painters.itertuples(index=False, name='Pandas'):\n",
    "    y_test.append(0 if row.category == \"NaoPistas\" else 1)"
   ]
  },
  {
   "cell_type": "code",
   "execution_count": 38,
   "metadata": {},
   "outputs": [],
   "source": [
    "y_train_tensor = torch.tensor(y_train, device=device) \n",
    "y_test_tensor = torch.tensor(y_test,  device=device) "
   ]
  },
  {
   "cell_type": "markdown",
   "metadata": {},
   "source": [
    "### **(Painters) 2 - Verificação das Dimensões dos Dados de Treinamento e Teste**"
   ]
  },
  {
   "cell_type": "code",
   "execution_count": 39,
   "metadata": {},
   "outputs": [
    {
     "name": "stdout",
     "output_type": "stream",
     "text": [
      "torch.Size([19622, 2049])\n",
      "torch.Size([58866])\n",
      "torch.Size([2465, 2049])\n",
      "torch.Size([7395])\n"
     ]
    }
   ],
   "source": [
    "print(X_train_tensor.shape)\n",
    "print(y_train_tensor.shape)\n",
    "print(X_test_tensor.shape)\n",
    "print(y_test_tensor.shape)"
   ]
  },
  {
   "cell_type": "markdown",
   "metadata": {},
   "source": [
    "### **(Painters) 3 - Definindo a Rede Neural Convolucional (CNN) para Classificação**"
   ]
  },
  {
   "cell_type": "code",
   "execution_count": 40,
   "metadata": {},
   "outputs": [],
   "source": [
    "n_timesteps, n_features, n_outputs = X_train_tensor.shape[0], X_train_tensor.shape[1], y_train_tensor.shape[0]"
   ]
  },
  {
   "cell_type": "code",
   "execution_count": 41,
   "metadata": {},
   "outputs": [],
   "source": [
    "class ConvNet1D(nn.Module):\n",
    "    def __init__(self):\n",
    "        super().__init__()\n",
    "        self.layer1 = nn.Sequential(\n",
    "            nn.Conv1d(n_features, n_features, kernel_size=30),\n",
    "            nn.ReLU(),\n",
    "            nn.Dropout(0.5),\n",
    "            nn.MaxPool1d(10))\n",
    "        self.layer2 = nn.Flatten()\n",
    "        self.layer3 = nn.Sequential(\n",
    "            nn.Linear(202,100),\n",
    "            nn.ReLU())\n",
    "        self.layer4 = nn.Sequential(\n",
    "            nn.Linear(100,2),\n",
    "            nn.Softmax(dim=1))\n",
    "\n",
    "    def forward(self, x):\n",
    "        out = self.layer1(x)\n",
    "        out = self.layer2(out)\n",
    "        out = self.layer3(out)\n",
    "        out = self.layer4(out)\n",
    "        return out"
   ]
  },
  {
   "cell_type": "code",
   "execution_count": 42,
   "metadata": {},
   "outputs": [],
   "source": [
    "model = ConvNet1D().to(device)"
   ]
  },
  {
   "cell_type": "code",
   "execution_count": 43,
   "metadata": {},
   "outputs": [
    {
     "data": {
      "text/plain": [
       "=================================================================\n",
       "Layer (type:depth-idx)                   Param #\n",
       "=================================================================\n",
       "ConvNet1D                                --\n",
       "├─Sequential: 1-1                        --\n",
       "│    └─Conv1d: 2-1                       125,954,079\n",
       "│    └─ReLU: 2-2                         --\n",
       "│    └─Dropout: 2-3                      --\n",
       "│    └─MaxPool1d: 2-4                    --\n",
       "├─Flatten: 1-2                           --\n",
       "├─Sequential: 1-3                        --\n",
       "│    └─Linear: 2-5                       20,300\n",
       "│    └─ReLU: 2-6                         --\n",
       "├─Sequential: 1-4                        --\n",
       "│    └─Linear: 2-7                       202\n",
       "│    └─Softmax: 2-8                      --\n",
       "=================================================================\n",
       "Total params: 125,974,581\n",
       "Trainable params: 125,974,581\n",
       "Non-trainable params: 0\n",
       "================================================================="
      ]
     },
     "execution_count": 43,
     "metadata": {},
     "output_type": "execute_result"
    }
   ],
   "source": [
    "summary(model)"
   ]
  },
  {
   "cell_type": "markdown",
   "metadata": {},
   "source": [
    "### **(Painters) 4 - Definição da Função de Perda e do Otimizador**"
   ]
  },
  {
   "cell_type": "code",
   "execution_count": 44,
   "metadata": {},
   "outputs": [],
   "source": [
    "criterion = nn.CrossEntropyLoss()\n",
    "optimizer = torch.optim.Adam(model.parameters(), lr=0.001)"
   ]
  },
  {
   "cell_type": "markdown",
   "metadata": {},
   "source": [
    "### **(Painters) 5 - Hiperparâmetros**"
   ]
  },
  {
   "cell_type": "code",
   "execution_count": 45,
   "metadata": {},
   "outputs": [],
   "source": [
    "num_epochs = 10\n",
    "total_step = X_train_tensor.shape[0]"
   ]
  },
  {
   "cell_type": "markdown",
   "metadata": {},
   "source": [
    "### **(Painters) 6 - Treinamento do Modelo CNN e Avaliação do Desempenho**"
   ]
  },
  {
   "cell_type": "code",
   "execution_count": 46,
   "metadata": {},
   "outputs": [
    {
     "name": "stdout",
     "output_type": "stream",
     "text": [
      "Epoch: 0 \t| Train loss: 1.31229 \t| Train acc: 0.8614 \t|\n",
      "Epoch: 1 \t| Train loss: 1.31229 \t| Train acc: 0.8889 \t|\n",
      "Epoch: 2 \t| Train loss: 1.31229 \t| Train acc: 0.8889 \t|\n",
      "Epoch: 3 \t| Train loss: 1.31229 \t| Train acc: 0.8889 \t|\n",
      "Epoch: 4 \t| Train loss: 1.31229 \t| Train acc: 0.8889 \t|\n",
      "Epoch: 5 \t| Train loss: 1.31229 \t| Train acc: 0.8889 \t|\n",
      "Epoch: 6 \t| Train loss: 1.31229 \t| Train acc: 0.8889 \t|\n",
      "Epoch: 7 \t| Train loss: 1.31229 \t| Train acc: 0.8889 \t|\n",
      "Epoch: 8 \t| Train loss: 1.31229 \t| Train acc: 0.8889 \t|\n",
      "Epoch: 9 \t| Train loss: 1.31229 \t| Train acc: 0.8889 \t|\n"
     ]
    }
   ],
   "source": [
    "loss_list = []\n",
    "acc_list = []\n",
    "acc_list_epoch = []\n",
    "batch_size = 2049\n",
    "\n",
    "for epoch in range(num_epochs):\n",
    "    correct_sum = 0\n",
    "    for i in range(int(np.floor(total_step/batch_size))): # split data into batches\n",
    "        trainXT_seg = X_train_tensor[i*batch_size:(i+1)*batch_size]\n",
    "        trainyT_seg = y_train_tensor[i*batch_size:(i+1)*batch_size]\n",
    "        # Run the forward pass\n",
    "        outputs = model(trainXT_seg)\n",
    "        loss = criterion(outputs, trainyT_seg)\n",
    "        loss_list.append(loss.item())\n",
    "\n",
    "        # Backprop and perform Adam optimisation\n",
    "        optimizer.zero_grad()\n",
    "        loss.backward()\n",
    "        optimizer.step()\n",
    "        # Track the accuracy\n",
    "        total = trainyT_seg.size(0)\n",
    "        _, predicted = torch.max(outputs, -1)\n",
    "        _, actual = torch.max(trainyT_seg, -1)\n",
    "        correct = (predicted == actual).sum().item()\n",
    "        correct_sum = correct_sum + (correct/total)\n",
    "        acc_list.append(correct / total)\n",
    "\n",
    "    acc_list_epoch.append(correct_sum/int(np.floor(total_step/batch_size)))\n",
    "    print(f'Epoch: {epoch} \\t|' \\\n",
    "        f' Train loss: {np.round(loss.item(),5)} \\t|' \\\n",
    "        f' Train acc: {np.round(correct_sum/int(np.floor(total_step/batch_size)),4)} \\t|')"
   ]
  },
  {
   "cell_type": "markdown",
   "metadata": {},
   "source": [
    "### **(Painters) 7 - Visualização da Curva de Acurácia**"
   ]
  },
  {
   "cell_type": "code",
   "execution_count": 47,
   "metadata": {},
   "outputs": [
    {
     "data": {
      "image/png": "[encoded data removed]",
      "text/plain": [
       "<Figure size 640x480 with 1 Axes>"
      ]
     },
     "metadata": {},
     "output_type": "display_data"
    }
   ],
   "source": [
    "plt.title('Training Accuracy')\n",
    "plt.ylabel('Accuracy')\n",
    "plt.xlabel('Epoch')\n",
    "plt.grid(True)\n",
    "plt.autoscale(axis='x', tight=True)\n",
    "plt.plot(acc_list_epoch)\n",
    "plt.show()"
   ]
  },
  {
   "cell_type": "markdown",
   "metadata": {},
   "source": [
    "### **(Painters) 8 - Rodando a rede nos dados de validação**"
   ]
  },
  {
   "cell_type": "code",
   "execution_count": 48,
   "metadata": {},
   "outputs": [],
   "source": [
    "df_todas_painters = pd.read_csv(os.path.join(path_dir, \"deep_learning/painters/todas_painters.csv\"), low_memory=False)\n",
    "df_todas_painters = df_todas_painters.reset_index()  \n",
    "df_todas_painters = df_todas_painters.drop(df_todas_painters.index[:2])"
   ]
  },
  {
   "cell_type": "code",
   "execution_count": 49,
   "metadata": {},
   "outputs": [],
   "source": [
    "new_df_todas_painters = df_todas_painters.astype(np.float32)\n",
    "X_validation_tensor = torch.tensor(new_df_todas_painters.values)"
   ]
  },
  {
   "cell_type": "code",
   "execution_count": 50,
   "metadata": {},
   "outputs": [
    {
     "name": "stdout",
     "output_type": "stream",
     "text": [
      "torch.Size([44033, 2049])\n"
     ]
    }
   ],
   "source": [
    "print(X_validation_tensor.shape)"
   ]
  },
  {
   "cell_type": "code",
   "execution_count": 52,
   "metadata": {},
   "outputs": [
    {
     "data": {
      "text/plain": [
       "[tensor([0, 0, 0,  ..., 0, 0, 0]),\n",
       " tensor([0, 0, 0,  ..., 0, 0, 0]),\n",
       " tensor([0, 0, 0,  ..., 0, 0, 0]),\n",
       " tensor([0, 0, 0,  ..., 0, 0, 0]),\n",
       " tensor([0, 0, 0,  ..., 0, 0, 0])]"
      ]
     },
     "execution_count": 52,
     "metadata": {},
     "output_type": "execute_result"
    }
   ],
   "source": [
    "predicts = []\n",
    "batch_size = 2049\n",
    "\n",
    "for epoch in range(num_epochs):\n",
    "    correct_sum = 0\n",
    "    for i in range(int(np.floor(total_step/batch_size))): # split data into batches\n",
    "        validationXT_seg = X_validation_tensor[i*batch_size:(i+1)*batch_size]\n",
    "        outputs = model(validationXT_seg)\n",
    "        total = validationXT_seg.size(0)\n",
    "        _, predicted = torch.max(outputs, -1)\n",
    "        predicts.append(predicted)\n",
    "\n",
    "predicts[:5]"
   ]
  }
 ],
 "metadata": {
  "kernelspec": {
   "display_name": "Python 3",
   "language": "python",
   "name": "python3"
  },
  "language_info": {
   "codemirror_mode": {
    "name": "ipython",
    "version": 3
   },
   "file_extension": ".py",
   "mimetype": "text/x-python",
   "name": "python",
   "nbconvert_exporter": "python",
   "pygments_lexer": "ipython3",
   "version": "3.12.3"
  }
 },
 "nbformat": 4,
 "nbformat_minor": 4
}
